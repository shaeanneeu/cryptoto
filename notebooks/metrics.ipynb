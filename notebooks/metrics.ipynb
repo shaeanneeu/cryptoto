{
 "cells": [
  {
   "cell_type": "code",
   "execution_count": 10,
   "metadata": {},
   "outputs": [],
   "source": [
    "import pandas as pd\n",
    "import numpy as np"
   ]
  },
  {
   "cell_type": "code",
   "execution_count": 18,
   "metadata": {},
   "outputs": [
    {
     "data": {
      "text/html": [
       "<div>\n",
       "<style scoped>\n",
       "    .dataframe tbody tr th:only-of-type {\n",
       "        vertical-align: middle;\n",
       "    }\n",
       "\n",
       "    .dataframe tbody tr th {\n",
       "        vertical-align: top;\n",
       "    }\n",
       "\n",
       "    .dataframe thead th {\n",
       "        text-align: right;\n",
       "    }\n",
       "</style>\n",
       "<table border=\"1\" class=\"dataframe\">\n",
       "  <thead>\n",
       "    <tr style=\"text-align: right;\">\n",
       "      <th></th>\n",
       "      <th>date</th>\n",
       "      <th>portfolio_value</th>\n",
       "      <th>ADA-USD</th>\n",
       "      <th>ETH-USD</th>\n",
       "      <th>LINK-USD</th>\n",
       "      <th>LTC-USD</th>\n",
       "      <th>SOL-USD</th>\n",
       "      <th>UNI-USD</th>\n",
       "      <th>XRP-USD</th>\n",
       "      <th>ADI</th>\n",
       "      <th>...</th>\n",
       "      <th>LRCX</th>\n",
       "      <th>MCHP</th>\n",
       "      <th>MCO</th>\n",
       "      <th>MOH</th>\n",
       "      <th>ODFL</th>\n",
       "      <th>PCG</th>\n",
       "      <th>PHM</th>\n",
       "      <th>PLD</th>\n",
       "      <th>STZ</th>\n",
       "      <th>TSLA</th>\n",
       "    </tr>\n",
       "  </thead>\n",
       "  <tbody>\n",
       "    <tr>\n",
       "      <th>0</th>\n",
       "      <td>2025-03-01</td>\n",
       "      <td>1.000000e+06</td>\n",
       "      <td>0.0</td>\n",
       "      <td>0.0</td>\n",
       "      <td>0.0</td>\n",
       "      <td>0.0</td>\n",
       "      <td>0.0</td>\n",
       "      <td>0.0</td>\n",
       "      <td>0.0</td>\n",
       "      <td>0.0</td>\n",
       "      <td>...</td>\n",
       "      <td>0.0</td>\n",
       "      <td>0.0</td>\n",
       "      <td>0.0</td>\n",
       "      <td>0.0</td>\n",
       "      <td>0.0</td>\n",
       "      <td>0.0</td>\n",
       "      <td>0.0</td>\n",
       "      <td>0.0</td>\n",
       "      <td>0.0</td>\n",
       "      <td>0.0</td>\n",
       "    </tr>\n",
       "    <tr>\n",
       "      <th>1</th>\n",
       "      <td>2025-03-02</td>\n",
       "      <td>1.000000e+06</td>\n",
       "      <td>0.0</td>\n",
       "      <td>0.0</td>\n",
       "      <td>0.0</td>\n",
       "      <td>0.0</td>\n",
       "      <td>0.0</td>\n",
       "      <td>0.0</td>\n",
       "      <td>0.0</td>\n",
       "      <td>0.0</td>\n",
       "      <td>...</td>\n",
       "      <td>0.0</td>\n",
       "      <td>0.0</td>\n",
       "      <td>0.0</td>\n",
       "      <td>0.0</td>\n",
       "      <td>0.0</td>\n",
       "      <td>0.0</td>\n",
       "      <td>0.0</td>\n",
       "      <td>0.0</td>\n",
       "      <td>0.0</td>\n",
       "      <td>0.0</td>\n",
       "    </tr>\n",
       "    <tr>\n",
       "      <th>2</th>\n",
       "      <td>2025-03-03</td>\n",
       "      <td>9.999924e+05</td>\n",
       "      <td>0.0</td>\n",
       "      <td>0.0</td>\n",
       "      <td>0.0</td>\n",
       "      <td>0.0</td>\n",
       "      <td>0.0</td>\n",
       "      <td>0.0</td>\n",
       "      <td>0.0</td>\n",
       "      <td>0.0</td>\n",
       "      <td>...</td>\n",
       "      <td>0.0</td>\n",
       "      <td>0.0</td>\n",
       "      <td>0.0</td>\n",
       "      <td>0.0</td>\n",
       "      <td>0.0</td>\n",
       "      <td>0.0</td>\n",
       "      <td>0.0</td>\n",
       "      <td>0.0</td>\n",
       "      <td>0.0</td>\n",
       "      <td>0.0</td>\n",
       "    </tr>\n",
       "    <tr>\n",
       "      <th>3</th>\n",
       "      <td>2025-03-04</td>\n",
       "      <td>9.992645e+05</td>\n",
       "      <td>0.0</td>\n",
       "      <td>0.0</td>\n",
       "      <td>0.0</td>\n",
       "      <td>0.0</td>\n",
       "      <td>0.0</td>\n",
       "      <td>0.0</td>\n",
       "      <td>0.0</td>\n",
       "      <td>0.0</td>\n",
       "      <td>...</td>\n",
       "      <td>0.0</td>\n",
       "      <td>0.0</td>\n",
       "      <td>0.0</td>\n",
       "      <td>0.0</td>\n",
       "      <td>0.0</td>\n",
       "      <td>0.0</td>\n",
       "      <td>0.0</td>\n",
       "      <td>0.0</td>\n",
       "      <td>0.0</td>\n",
       "      <td>0.0</td>\n",
       "    </tr>\n",
       "    <tr>\n",
       "      <th>4</th>\n",
       "      <td>2025-03-05</td>\n",
       "      <td>1.000049e+06</td>\n",
       "      <td>0.0</td>\n",
       "      <td>0.0</td>\n",
       "      <td>0.0</td>\n",
       "      <td>0.0</td>\n",
       "      <td>0.0</td>\n",
       "      <td>0.0</td>\n",
       "      <td>0.0</td>\n",
       "      <td>0.0</td>\n",
       "      <td>...</td>\n",
       "      <td>0.0</td>\n",
       "      <td>0.0</td>\n",
       "      <td>0.0</td>\n",
       "      <td>0.0</td>\n",
       "      <td>0.0</td>\n",
       "      <td>0.0</td>\n",
       "      <td>0.0</td>\n",
       "      <td>0.0</td>\n",
       "      <td>0.0</td>\n",
       "      <td>0.0</td>\n",
       "    </tr>\n",
       "  </tbody>\n",
       "</table>\n",
       "<p>5 rows × 32 columns</p>\n",
       "</div>"
      ],
      "text/plain": [
       "         date  portfolio_value  ADA-USD  ETH-USD  LINK-USD  LTC-USD  SOL-USD  \\\n",
       "0  2025-03-01     1.000000e+06      0.0      0.0       0.0      0.0      0.0   \n",
       "1  2025-03-02     1.000000e+06      0.0      0.0       0.0      0.0      0.0   \n",
       "2  2025-03-03     9.999924e+05      0.0      0.0       0.0      0.0      0.0   \n",
       "3  2025-03-04     9.992645e+05      0.0      0.0       0.0      0.0      0.0   \n",
       "4  2025-03-05     1.000049e+06      0.0      0.0       0.0      0.0      0.0   \n",
       "\n",
       "   UNI-USD  XRP-USD  ADI  ...  LRCX  MCHP  MCO  MOH  ODFL  PCG  PHM  PLD  STZ  \\\n",
       "0      0.0      0.0  0.0  ...   0.0   0.0  0.0  0.0   0.0  0.0  0.0  0.0  0.0   \n",
       "1      0.0      0.0  0.0  ...   0.0   0.0  0.0  0.0   0.0  0.0  0.0  0.0  0.0   \n",
       "2      0.0      0.0  0.0  ...   0.0   0.0  0.0  0.0   0.0  0.0  0.0  0.0  0.0   \n",
       "3      0.0      0.0  0.0  ...   0.0   0.0  0.0  0.0   0.0  0.0  0.0  0.0  0.0   \n",
       "4      0.0      0.0  0.0  ...   0.0   0.0  0.0  0.0   0.0  0.0  0.0  0.0  0.0   \n",
       "\n",
       "   TSLA  \n",
       "0   0.0  \n",
       "1   0.0  \n",
       "2   0.0  \n",
       "3   0.0  \n",
       "4   0.0  \n",
       "\n",
       "[5 rows x 32 columns]"
      ]
     },
     "execution_count": 18,
     "metadata": {},
     "output_type": "execute_result"
    }
   ],
   "source": [
    "df = pd.read_csv('../data/misc/daily_portfolio_value.csv')\n",
    "df.head()"
   ]
  },
  {
   "cell_type": "code",
   "execution_count": 12,
   "metadata": {},
   "outputs": [
    {
     "data": {
      "text/html": [
       "<div>\n",
       "<style scoped>\n",
       "    .dataframe tbody tr th:only-of-type {\n",
       "        vertical-align: middle;\n",
       "    }\n",
       "\n",
       "    .dataframe tbody tr th {\n",
       "        vertical-align: top;\n",
       "    }\n",
       "\n",
       "    .dataframe thead th {\n",
       "        text-align: right;\n",
       "    }\n",
       "</style>\n",
       "<table border=\"1\" class=\"dataframe\">\n",
       "  <thead>\n",
       "    <tr style=\"text-align: right;\">\n",
       "      <th></th>\n",
       "      <th>asset</th>\n",
       "      <th>date</th>\n",
       "      <th>action</th>\n",
       "      <th>price</th>\n",
       "      <th>units</th>\n",
       "      <th>signed_value</th>\n",
       "    </tr>\n",
       "  </thead>\n",
       "  <tbody>\n",
       "    <tr>\n",
       "      <th>0</th>\n",
       "      <td>LII</td>\n",
       "      <td>2025-03-03</td>\n",
       "      <td>BUY_NEW</td>\n",
       "      <td>586.979980</td>\n",
       "      <td>5.195480e+01</td>\n",
       "      <td>-30496.424882</td>\n",
       "    </tr>\n",
       "    <tr>\n",
       "      <th>1</th>\n",
       "      <td>LII</td>\n",
       "      <td>2025-03-06</td>\n",
       "      <td>BUY_ADD</td>\n",
       "      <td>583.900024</td>\n",
       "      <td>2.774973e-01</td>\n",
       "      <td>-162.030664</td>\n",
       "    </tr>\n",
       "    <tr>\n",
       "      <th>2</th>\n",
       "      <td>UNI-USD</td>\n",
       "      <td>2025-03-10</td>\n",
       "      <td>BUY_NEW</td>\n",
       "      <td>0.000158</td>\n",
       "      <td>5.797783e+06</td>\n",
       "      <td>-916.049651</td>\n",
       "    </tr>\n",
       "    <tr>\n",
       "      <th>3</th>\n",
       "      <td>ADI</td>\n",
       "      <td>2025-03-10</td>\n",
       "      <td>BUY_NEW</td>\n",
       "      <td>216.259995</td>\n",
       "      <td>1.330952e+02</td>\n",
       "      <td>-28783.165230</td>\n",
       "    </tr>\n",
       "    <tr>\n",
       "      <th>4</th>\n",
       "      <td>ADI</td>\n",
       "      <td>2025-03-12</td>\n",
       "      <td>BUY_ADD</td>\n",
       "      <td>206.619995</td>\n",
       "      <td>5.814890e+00</td>\n",
       "      <td>-1201.472533</td>\n",
       "    </tr>\n",
       "  </tbody>\n",
       "</table>\n",
       "</div>"
      ],
      "text/plain": [
       "     asset        date   action       price         units  signed_value\n",
       "0      LII  2025-03-03  BUY_NEW  586.979980  5.195480e+01 -30496.424882\n",
       "1      LII  2025-03-06  BUY_ADD  583.900024  2.774973e-01   -162.030664\n",
       "2  UNI-USD  2025-03-10  BUY_NEW    0.000158  5.797783e+06   -916.049651\n",
       "3      ADI  2025-03-10  BUY_NEW  216.259995  1.330952e+02 -28783.165230\n",
       "4      ADI  2025-03-12  BUY_ADD  206.619995  5.814890e+00  -1201.472533"
      ]
     },
     "execution_count": 12,
     "metadata": {},
     "output_type": "execute_result"
    }
   ],
   "source": [
    "trades = pd.read_csv('../data/misc/trade_log.csv')\n",
    "trades.head()"
   ]
  },
  {
   "cell_type": "code",
   "execution_count": 19,
   "metadata": {},
   "outputs": [
    {
     "name": "stdout",
     "output_type": "stream",
     "text": [
      "Testing period return: -0.4731%\n",
      "Annualised return: -5.4305%\n"
     ]
    }
   ],
   "source": [
    "## Annual Return\n",
    "df['date'] = pd.to_datetime(df['date'])\n",
    "\n",
    "# Compute number of days in testing period\n",
    "num_days = len(df)\n",
    "\n",
    "# Compute total and annualised return\n",
    "testing_return = df['portfolio_value'].iloc[-1] / df['portfolio_value'].iloc[0] - 1\n",
    "\n",
    "if num_days > 0:\n",
    "    annualised_return = (1 + testing_return) ** (365 / num_days) - 1\n",
    "    print(f\"Testing period return: {testing_return:.4%}\")\n",
    "    print(f\"Annualised return: {annualised_return:.4%}\")\n"
   ]
  },
  {
   "cell_type": "code",
   "execution_count": 14,
   "metadata": {},
   "outputs": [
    {
     "data": {
      "text/plain": [
       "0.19034691718842298"
      ]
     },
     "execution_count": 14,
     "metadata": {},
     "output_type": "execute_result"
    }
   ],
   "source": [
    "## Sharpe Ratio\n",
    "def sharpe_ratio(return_series, N, rf):\n",
    "    mean = return_series.mean() * N - rf\n",
    "    sigma = return_series.std() * np.sqrt(N)\n",
    "    return mean/sigma\n",
    "\n",
    "sharpe_ratio(df['portfolio_value'].pct_change(), 252, 0.0431)"
   ]
  },
  {
   "cell_type": "code",
   "execution_count": 15,
   "metadata": {},
   "outputs": [
    {
     "data": {
      "text/plain": [
       "'-10.56%'"
      ]
     },
     "execution_count": 15,
     "metadata": {},
     "output_type": "execute_result"
    }
   ],
   "source": [
    "# Max Drawdown\n",
    "peak = df['portfolio_value'].cummax()\n",
    "drawdown = (df['portfolio_value'] - peak) / peak\n",
    "f'{drawdown.min() * 100:.2f}%'"
   ]
  },
  {
   "cell_type": "code",
   "execution_count": 7,
   "metadata": {},
   "outputs": [
    {
     "data": {
      "text/plain": [
       "'40.00%'"
      ]
     },
     "execution_count": 7,
     "metadata": {},
     "output_type": "execute_result"
    }
   ],
   "source": [
    "# Win Rate\n",
    "d = {}\n",
    "wins, losses = 0, 0\n",
    "for row in trades.iterrows():\n",
    "    entry = row[1]\n",
    "\n",
    "    if entry['action'] == 'BUY_NEW':\n",
    "        d[entry['asset']] = {\n",
    "            'date': entry['date'],\n",
    "            'price': entry['price'],\n",
    "            'units': entry['units']\n",
    "        }\n",
    "        \n",
    "    if entry['action'] == 'BUY_ADD':\n",
    "        assert entry['asset'] in d\n",
    "        d[entry['asset']]['price'] = (\n",
    "                d[entry['asset']]['price'] * d[entry['asset']]['units'] + entry['price'] * entry['units']\n",
    "            ) / (\n",
    "                d[entry['asset']]['units'] + entry['units']\n",
    "            )\n",
    "        d[entry['asset']]['units'] += entry['units']\n",
    "        \n",
    "    if entry['action'] in ['SELL_SL', 'SELL_TP', 'SELL_SHORT']:\n",
    "        assert entry['asset'] in d\n",
    "        if entry['price'] > d[entry['asset']]['price']:\n",
    "            wins += 1\n",
    "        elif entry['price'] < d[entry['asset']]['price']:\n",
    "            losses += 1\n",
    "                     \n",
    "f'{wins / (wins + losses) * 100:.2f}%'"
   ]
  },
  {
   "cell_type": "code",
   "execution_count": 8,
   "metadata": {},
   "outputs": [
    {
     "data": {
      "text/plain": [
       "3"
      ]
     },
     "execution_count": 8,
     "metadata": {},
     "output_type": "execute_result"
    }
   ],
   "source": [
    "losses"
   ]
  },
  {
   "cell_type": "code",
   "execution_count": 9,
   "metadata": {},
   "outputs": [
    {
     "data": {
      "text/plain": [
       "LII                 0.0\n",
       "UNI-USD      819.434388\n",
       "ADI        28628.046387\n",
       "MCHP       36139.079876\n",
       "MOH                 0.0\n",
       "XRP-USD             0.0\n",
       "Name: 30, dtype: object"
      ]
     },
     "execution_count": 9,
     "metadata": {},
     "output_type": "execute_result"
    }
   ],
   "source": [
    "leftover_value = df.iloc[-1][d.keys()]\n",
    "leftover_value"
   ]
  },
  {
   "cell_type": "code",
   "execution_count": 10,
   "metadata": {},
   "outputs": [
    {
     "data": {
      "text/plain": [
       "'65.86%'"
      ]
     },
     "execution_count": 10,
     "metadata": {},
     "output_type": "execute_result"
    }
   ],
   "source": [
    "# Annual Volatility\n",
    "pct_change = df['portfolio_value'].pct_change()[1:]\n",
    "f'{pct_change.std() * (252 ** 0.5) * 100:.2f}%'"
   ]
  },
  {
   "cell_type": "code",
   "execution_count": 11,
   "metadata": {},
   "outputs": [
    {
     "name": "stderr",
     "output_type": "stream",
     "text": [
      "C:\\Users\\LENOVO\\AppData\\Local\\Temp\\ipykernel_49160\\226863221.py:3: FutureWarning: Downcasting object dtype arrays on .fillna, .ffill, .bfill is deprecated and will change in a future version. Call result.infer_objects(copy=False) instead. To opt-in to the future behavior, set `pd.set_option('future.no_silent_downcasting', True)`\n",
      "  (is_drawdown & (~is_drawdown.shift(1).fillna(False))).sum()\n"
     ]
    },
    {
     "data": {
      "text/plain": [
       "3"
      ]
     },
     "execution_count": 11,
     "metadata": {},
     "output_type": "execute_result"
    }
   ],
   "source": [
    "# Drawdown Patterns\n",
    "is_drawdown = drawdown < 0\n",
    "(is_drawdown & (~is_drawdown.shift(1).fillna(False))).sum()"
   ]
  },
  {
   "cell_type": "code",
   "execution_count": 12,
   "metadata": {},
   "outputs": [
    {
     "data": {
      "text/plain": [
       "18"
      ]
     },
     "execution_count": 12,
     "metadata": {},
     "output_type": "execute_result"
    }
   ],
   "source": [
    "# Number of Trades\n",
    "len(trades)"
   ]
  },
  {
   "cell_type": "code",
   "execution_count": 20,
   "metadata": {},
   "outputs": [
    {
     "data": {
      "text/plain": [
       "8.125"
      ]
     },
     "execution_count": 20,
     "metadata": {},
     "output_type": "execute_result"
    }
   ],
   "source": [
    "eps = 1e-6\n",
    "d = {}\n",
    "holding_periods = []\n",
    "\n",
    "for _, entry in trades.iterrows():\n",
    "    asset = entry['asset']\n",
    "    date = pd.to_datetime(entry['date'])  # ensure datetime\n",
    "\n",
    "    if entry['action'] == 'BUY_NEW':\n",
    "        d[asset] = {'date': date, 'units': entry['units']}\n",
    "\n",
    "    elif entry['action'] == 'BUY_ADD':\n",
    "        assert asset in d\n",
    "        d[asset]['units'] += entry['units']\n",
    "\n",
    "    elif entry['action'] in ['SELL_SL', 'SELL_TP', 'SELL_SHORT']:\n",
    "        assert asset in d\n",
    "        d[asset]['units'] -= entry['units']\n",
    "        \n",
    "        if d[asset]['units'] < eps:\n",
    "            dt = date - d[asset]['date']  # both are datetime now\n",
    "            holding_periods.append(dt.days)\n",
    "            del d[asset]\n",
    "\n",
    "last_date = df['date'].iloc[-1]\n",
    "\n",
    "# For open positions, measure to last_date:\n",
    "holding_periods += [\n",
    "    (last_date - data['date']).days\n",
    "    for asset, data in d.items()\n",
    "]\n",
    "\n",
    "# Average holding period\n",
    "average_holding_period = sum(holding_periods) / len(holding_periods)\n",
    "average_holding_period\n"
   ]
  },
  {
   "cell_type": "code",
   "execution_count": 15,
   "metadata": {},
   "outputs": [
    {
     "data": {
      "text/plain": [
       "-262.8303122336446"
      ]
     },
     "execution_count": 15,
     "metadata": {},
     "output_type": "execute_result"
    }
   ],
   "source": [
    "# Profit per Trade\n",
    "\n",
    "(df.iloc[-1]['portfolio_value'] - df.iloc[0]['portfolio_value']) / len(trades)\n"
   ]
  },
  {
   "cell_type": "code",
   "execution_count": 16,
   "metadata": {},
   "outputs": [
    {
     "data": {
      "text/plain": [
       "-203.8271820423475"
      ]
     },
     "execution_count": 16,
     "metadata": {},
     "output_type": "execute_result"
    }
   ],
   "source": [
    "# Profit per Trade (Alternative)\n",
    "\n",
    "'''\n",
    "I will consider the price at the end of the trading period \n",
    "of the assets not sold as part of the profit.\n",
    "'''\n",
    "\n",
    "leftover_value = df.iloc[-1][d.keys()]\n",
    "leftover_value = leftover_value[leftover_value > 0]\n",
    "\n",
    "pd.concat([trades['signed_value'], leftover_value]).mean()"
   ]
  }
 ],
 "metadata": {
  "kernelspec": {
   "display_name": "Python 3",
   "language": "python",
   "name": "python3"
  },
  "language_info": {
   "codemirror_mode": {
    "name": "ipython",
    "version": 3
   },
   "file_extension": ".py",
   "mimetype": "text/x-python",
   "name": "python",
   "nbconvert_exporter": "python",
   "pygments_lexer": "ipython3",
   "version": "3.12.2"
  }
 },
 "nbformat": 4,
 "nbformat_minor": 2
}
