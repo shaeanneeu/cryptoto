{
 "cells": [
  {
   "cell_type": "code",
   "execution_count": 2,
   "metadata": {},
   "outputs": [],
   "source": [
    "import pandas as pd"
   ]
  },
  {
   "cell_type": "code",
   "execution_count": 8,
   "metadata": {},
   "outputs": [
    {
     "data": {
      "text/html": [
       "<div>\n",
       "<style scoped>\n",
       "    .dataframe tbody tr th:only-of-type {\n",
       "        vertical-align: middle;\n",
       "    }\n",
       "\n",
       "    .dataframe tbody tr th {\n",
       "        vertical-align: top;\n",
       "    }\n",
       "\n",
       "    .dataframe thead th {\n",
       "        text-align: right;\n",
       "    }\n",
       "</style>\n",
       "<table border=\"1\" class=\"dataframe\">\n",
       "  <thead>\n",
       "    <tr style=\"text-align: right;\">\n",
       "      <th></th>\n",
       "      <th>date</th>\n",
       "      <th>portfolio_value</th>\n",
       "      <th>ADA-USD</th>\n",
       "      <th>ETH-USD</th>\n",
       "      <th>LINK-USD</th>\n",
       "      <th>LTC-USD</th>\n",
       "      <th>SOL-USD</th>\n",
       "      <th>UNI-USD</th>\n",
       "      <th>XRP-USD</th>\n",
       "      <th>ADI</th>\n",
       "      <th>...</th>\n",
       "      <th>LRCX</th>\n",
       "      <th>MCHP</th>\n",
       "      <th>MCO</th>\n",
       "      <th>MOH</th>\n",
       "      <th>ODFL</th>\n",
       "      <th>PCG</th>\n",
       "      <th>PHM</th>\n",
       "      <th>PLD</th>\n",
       "      <th>STZ</th>\n",
       "      <th>TSLA</th>\n",
       "    </tr>\n",
       "  </thead>\n",
       "  <tbody>\n",
       "    <tr>\n",
       "      <th>0</th>\n",
       "      <td>2025-03-01</td>\n",
       "      <td>1.000000e+06</td>\n",
       "      <td>0.0</td>\n",
       "      <td>0.0</td>\n",
       "      <td>0.0</td>\n",
       "      <td>0.0</td>\n",
       "      <td>0.0</td>\n",
       "      <td>0.0</td>\n",
       "      <td>0.0</td>\n",
       "      <td>0.0</td>\n",
       "      <td>...</td>\n",
       "      <td>0.0</td>\n",
       "      <td>0.0</td>\n",
       "      <td>0.0</td>\n",
       "      <td>0.0</td>\n",
       "      <td>0.0</td>\n",
       "      <td>0.0</td>\n",
       "      <td>0.0</td>\n",
       "      <td>0.0</td>\n",
       "      <td>0.0</td>\n",
       "      <td>0.0</td>\n",
       "    </tr>\n",
       "    <tr>\n",
       "      <th>1</th>\n",
       "      <td>2025-03-02</td>\n",
       "      <td>1.000000e+06</td>\n",
       "      <td>0.0</td>\n",
       "      <td>0.0</td>\n",
       "      <td>0.0</td>\n",
       "      <td>0.0</td>\n",
       "      <td>0.0</td>\n",
       "      <td>0.0</td>\n",
       "      <td>0.0</td>\n",
       "      <td>0.0</td>\n",
       "      <td>...</td>\n",
       "      <td>0.0</td>\n",
       "      <td>0.0</td>\n",
       "      <td>0.0</td>\n",
       "      <td>0.0</td>\n",
       "      <td>0.0</td>\n",
       "      <td>0.0</td>\n",
       "      <td>0.0</td>\n",
       "      <td>0.0</td>\n",
       "      <td>0.0</td>\n",
       "      <td>0.0</td>\n",
       "    </tr>\n",
       "    <tr>\n",
       "      <th>2</th>\n",
       "      <td>2025-03-03</td>\n",
       "      <td>9.999924e+05</td>\n",
       "      <td>0.0</td>\n",
       "      <td>0.0</td>\n",
       "      <td>0.0</td>\n",
       "      <td>0.0</td>\n",
       "      <td>0.0</td>\n",
       "      <td>0.0</td>\n",
       "      <td>0.0</td>\n",
       "      <td>0.0</td>\n",
       "      <td>...</td>\n",
       "      <td>0.0</td>\n",
       "      <td>0.0</td>\n",
       "      <td>0.0</td>\n",
       "      <td>0.0</td>\n",
       "      <td>0.0</td>\n",
       "      <td>0.0</td>\n",
       "      <td>0.0</td>\n",
       "      <td>0.0</td>\n",
       "      <td>0.0</td>\n",
       "      <td>0.0</td>\n",
       "    </tr>\n",
       "    <tr>\n",
       "      <th>3</th>\n",
       "      <td>2025-03-04</td>\n",
       "      <td>9.992645e+05</td>\n",
       "      <td>0.0</td>\n",
       "      <td>0.0</td>\n",
       "      <td>0.0</td>\n",
       "      <td>0.0</td>\n",
       "      <td>0.0</td>\n",
       "      <td>0.0</td>\n",
       "      <td>0.0</td>\n",
       "      <td>0.0</td>\n",
       "      <td>...</td>\n",
       "      <td>0.0</td>\n",
       "      <td>0.0</td>\n",
       "      <td>0.0</td>\n",
       "      <td>0.0</td>\n",
       "      <td>0.0</td>\n",
       "      <td>0.0</td>\n",
       "      <td>0.0</td>\n",
       "      <td>0.0</td>\n",
       "      <td>0.0</td>\n",
       "      <td>0.0</td>\n",
       "    </tr>\n",
       "    <tr>\n",
       "      <th>4</th>\n",
       "      <td>2025-03-05</td>\n",
       "      <td>1.000049e+06</td>\n",
       "      <td>0.0</td>\n",
       "      <td>0.0</td>\n",
       "      <td>0.0</td>\n",
       "      <td>0.0</td>\n",
       "      <td>0.0</td>\n",
       "      <td>0.0</td>\n",
       "      <td>0.0</td>\n",
       "      <td>0.0</td>\n",
       "      <td>...</td>\n",
       "      <td>0.0</td>\n",
       "      <td>0.0</td>\n",
       "      <td>0.0</td>\n",
       "      <td>0.0</td>\n",
       "      <td>0.0</td>\n",
       "      <td>0.0</td>\n",
       "      <td>0.0</td>\n",
       "      <td>0.0</td>\n",
       "      <td>0.0</td>\n",
       "      <td>0.0</td>\n",
       "    </tr>\n",
       "  </tbody>\n",
       "</table>\n",
       "<p>5 rows × 32 columns</p>\n",
       "</div>"
      ],
      "text/plain": [
       "         date  portfolio_value  ADA-USD  ETH-USD  LINK-USD  LTC-USD  SOL-USD  \\\n",
       "0  2025-03-01     1.000000e+06      0.0      0.0       0.0      0.0      0.0   \n",
       "1  2025-03-02     1.000000e+06      0.0      0.0       0.0      0.0      0.0   \n",
       "2  2025-03-03     9.999924e+05      0.0      0.0       0.0      0.0      0.0   \n",
       "3  2025-03-04     9.992645e+05      0.0      0.0       0.0      0.0      0.0   \n",
       "4  2025-03-05     1.000049e+06      0.0      0.0       0.0      0.0      0.0   \n",
       "\n",
       "   UNI-USD  XRP-USD  ADI  ...  LRCX  MCHP  MCO  MOH  ODFL  PCG  PHM  PLD  STZ  \\\n",
       "0      0.0      0.0  0.0  ...   0.0   0.0  0.0  0.0   0.0  0.0  0.0  0.0  0.0   \n",
       "1      0.0      0.0  0.0  ...   0.0   0.0  0.0  0.0   0.0  0.0  0.0  0.0  0.0   \n",
       "2      0.0      0.0  0.0  ...   0.0   0.0  0.0  0.0   0.0  0.0  0.0  0.0  0.0   \n",
       "3      0.0      0.0  0.0  ...   0.0   0.0  0.0  0.0   0.0  0.0  0.0  0.0  0.0   \n",
       "4      0.0      0.0  0.0  ...   0.0   0.0  0.0  0.0   0.0  0.0  0.0  0.0  0.0   \n",
       "\n",
       "   TSLA  \n",
       "0   0.0  \n",
       "1   0.0  \n",
       "2   0.0  \n",
       "3   0.0  \n",
       "4   0.0  \n",
       "\n",
       "[5 rows x 32 columns]"
      ]
     },
     "execution_count": 8,
     "metadata": {},
     "output_type": "execute_result"
    }
   ],
   "source": [
    "df = pd.read_csv('../data/misc/daily_portfolio_value.csv')\n",
    "df.head()"
   ]
  },
  {
   "cell_type": "code",
   "execution_count": 32,
   "metadata": {},
   "outputs": [
    {
     "data": {
      "text/html": [
       "<div>\n",
       "<style scoped>\n",
       "    .dataframe tbody tr th:only-of-type {\n",
       "        vertical-align: middle;\n",
       "    }\n",
       "\n",
       "    .dataframe tbody tr th {\n",
       "        vertical-align: top;\n",
       "    }\n",
       "\n",
       "    .dataframe thead th {\n",
       "        text-align: right;\n",
       "    }\n",
       "</style>\n",
       "<table border=\"1\" class=\"dataframe\">\n",
       "  <thead>\n",
       "    <tr style=\"text-align: right;\">\n",
       "      <th></th>\n",
       "      <th>asset</th>\n",
       "      <th>date</th>\n",
       "      <th>action</th>\n",
       "      <th>price</th>\n",
       "      <th>units</th>\n",
       "      <th>signed_value</th>\n",
       "    </tr>\n",
       "  </thead>\n",
       "  <tbody>\n",
       "    <tr>\n",
       "      <th>0</th>\n",
       "      <td>LII</td>\n",
       "      <td>2025-03-03</td>\n",
       "      <td>BUY_NEW</td>\n",
       "      <td>586.979980</td>\n",
       "      <td>5.195480e+01</td>\n",
       "      <td>-30496.424882</td>\n",
       "    </tr>\n",
       "    <tr>\n",
       "      <th>1</th>\n",
       "      <td>LII</td>\n",
       "      <td>2025-03-06</td>\n",
       "      <td>BUY_ADD</td>\n",
       "      <td>583.900024</td>\n",
       "      <td>2.774973e-01</td>\n",
       "      <td>-162.030664</td>\n",
       "    </tr>\n",
       "    <tr>\n",
       "      <th>2</th>\n",
       "      <td>UNI-USD</td>\n",
       "      <td>2025-03-10</td>\n",
       "      <td>BUY_NEW</td>\n",
       "      <td>0.000158</td>\n",
       "      <td>5.797783e+06</td>\n",
       "      <td>-916.049651</td>\n",
       "    </tr>\n",
       "    <tr>\n",
       "      <th>3</th>\n",
       "      <td>ADI</td>\n",
       "      <td>2025-03-10</td>\n",
       "      <td>BUY_NEW</td>\n",
       "      <td>216.259995</td>\n",
       "      <td>1.330952e+02</td>\n",
       "      <td>-28783.165230</td>\n",
       "    </tr>\n",
       "    <tr>\n",
       "      <th>4</th>\n",
       "      <td>ADI</td>\n",
       "      <td>2025-03-12</td>\n",
       "      <td>BUY_ADD</td>\n",
       "      <td>206.619995</td>\n",
       "      <td>5.814890e+00</td>\n",
       "      <td>-1201.472533</td>\n",
       "    </tr>\n",
       "  </tbody>\n",
       "</table>\n",
       "</div>"
      ],
      "text/plain": [
       "     asset        date   action       price         units  signed_value\n",
       "0      LII  2025-03-03  BUY_NEW  586.979980  5.195480e+01 -30496.424882\n",
       "1      LII  2025-03-06  BUY_ADD  583.900024  2.774973e-01   -162.030664\n",
       "2  UNI-USD  2025-03-10  BUY_NEW    0.000158  5.797783e+06   -916.049651\n",
       "3      ADI  2025-03-10  BUY_NEW  216.259995  1.330952e+02 -28783.165230\n",
       "4      ADI  2025-03-12  BUY_ADD  206.619995  5.814890e+00  -1201.472533"
      ]
     },
     "execution_count": 32,
     "metadata": {},
     "output_type": "execute_result"
    }
   ],
   "source": [
    "trades = pd.read_csv('../data/misc/trade_log.csv')\n",
    "trades.head()"
   ]
  },
  {
   "cell_type": "code",
   "execution_count": 10,
   "metadata": {},
   "outputs": [
    {
     "data": {
      "text/plain": [
       "-0.0047309456202055955"
      ]
     },
     "execution_count": 10,
     "metadata": {},
     "output_type": "execute_result"
    }
   ],
   "source": [
    "## Annual Return\n",
    "\n",
    "df.iloc[-1]['portfolio_value'] / df.iloc[0]['portfolio_value'] - 1\n"
   ]
  },
  {
   "cell_type": "code",
   "execution_count": 16,
   "metadata": {},
   "outputs": [
    {
     "data": {
      "text/plain": [
       "-1.0227256352844156"
      ]
     },
     "execution_count": 16,
     "metadata": {},
     "output_type": "execute_result"
    }
   ],
   "source": [
    "## Sharpe Ratio\n",
    "pct_change = df['portfolio_value'].pct_change()[1:]\n",
    "(pct_change.mean() - 0.0431) / pct_change.std()"
   ]
  },
  {
   "cell_type": "code",
   "execution_count": 22,
   "metadata": {},
   "outputs": [
    {
     "data": {
      "text/plain": [
       "'-10.56%'"
      ]
     },
     "execution_count": 22,
     "metadata": {},
     "output_type": "execute_result"
    }
   ],
   "source": [
    "# Max Drawdown\n",
    "peak = df['portfolio_value'].cummax()\n",
    "drawdown = (df['portfolio_value'] - peak) / peak\n",
    "f'{drawdown.min() * 100:.2f}%'"
   ]
  },
  {
   "cell_type": "code",
   "execution_count": 97,
   "metadata": {},
   "outputs": [
    {
     "data": {
      "text/plain": [
       "{'LII': ('2025-03-28', 1757.02001953125),\n",
       " 'UNI-USD': ('2025-03-29', 0.0001659999979892),\n",
       " 'ADI': ('2025-03-28', 201.55999755859372),\n",
       " 'MCHP': ('2025-03-28', 99.70000076293945),\n",
       " 'MOH': ('2025-03-21', 309.92999267578125),\n",
       " 'XRP-USD': ('2025-03-28', 0.14495086669921875)}"
      ]
     },
     "execution_count": 97,
     "metadata": {},
     "output_type": "execute_result"
    }
   ],
   "source": [
    "# Win Rate\n",
    "\n",
    "d = {}\n",
    "for row in trades.iterrows():\n",
    "    entry = row[1]\n",
    "\n",
    "    if entry['action'] == 'BUY_NEW':\n",
    "        d[entry['asset']] = (entry['date'], entry['price'])\n",
    "        \n",
    "    elif entry['action'] == 'BUY_ADD':\n",
    "        assert entry['asset'] in d\n",
    "        d[entry['asset']] = (entry['date'], d[entry['asset']][1] + entry['price'])\n",
    "        \n",
    "    elif entry['action'] in ['SELL_SL', 'SELL_TP']:\n",
    "        assert entry['asset'] in d\n",
    "        d[entry['asset']] = (entry['date'], d[entry['asset']][1] - entry['price'])\n",
    "        \n",
    "d"
   ]
  },
  {
   "cell_type": "code",
   "execution_count": 24,
   "metadata": {},
   "outputs": [
    {
     "data": {
      "text/plain": [
       "'65.86%'"
      ]
     },
     "execution_count": 24,
     "metadata": {},
     "output_type": "execute_result"
    }
   ],
   "source": [
    "# Annual Volatility\n",
    "f'{pct_change.std() * (252 ** 0.5) * 100:.2f}%'"
   ]
  },
  {
   "cell_type": "code",
   "execution_count": 31,
   "metadata": {},
   "outputs": [
    {
     "name": "stderr",
     "output_type": "stream",
     "text": [
      "C:\\Users\\JW\\AppData\\Local\\Temp\\ipykernel_20372\\226863221.py:3: FutureWarning: Downcasting object dtype arrays on .fillna, .ffill, .bfill is deprecated and will change in a future version. Call result.infer_objects(copy=False) instead. To opt-in to the future behavior, set `pd.set_option('future.no_silent_downcasting', True)`\n",
      "  (is_drawdown & (~is_drawdown.shift(1).fillna(False))).sum()\n"
     ]
    },
    {
     "data": {
      "text/plain": [
       "3"
      ]
     },
     "execution_count": 31,
     "metadata": {},
     "output_type": "execute_result"
    }
   ],
   "source": [
    "# Drawdown Patterns\n",
    "is_drawdown = drawdown < 0\n",
    "(is_drawdown & (~is_drawdown.shift(1).fillna(False))).sum()"
   ]
  },
  {
   "cell_type": "code",
   "execution_count": 33,
   "metadata": {},
   "outputs": [
    {
     "data": {
      "text/plain": [
       "18"
      ]
     },
     "execution_count": 33,
     "metadata": {},
     "output_type": "execute_result"
    }
   ],
   "source": [
    "# Number of Trades\n",
    "len(trades)"
   ]
  },
  {
   "cell_type": "code",
   "execution_count": 60,
   "metadata": {},
   "outputs": [],
   "source": [
    "# Average Holding Period\n",
    "\n",
    "d = {}\n",
    "for row in trades.iterrows():\n",
    "    entry = row[1]\n",
    "\n",
    "    if entry['action'] == 'BUY_NEW':\n",
    "        d[entry['asset']] = (entry['date'], entry['price'])\n",
    "        \n",
    "    elif entry['action'] == 'BUY_ADD':\n",
    "        assert entry['asset'] in d\n",
    "        d[entry['asset']] = (entry['date'], d[entry['asset']][1] + entry['price'])\n",
    "        \n",
    "    elif entry['action'] in ['SELL_SL', 'SELL_TP']:\n",
    "        assert entry['asset'] in d\n",
    "        d[entry['asset']] = (entry['date'], d[entry['asset']][1] - entry['price'])"
   ]
  },
  {
   "cell_type": "code",
   "execution_count": 95,
   "metadata": {},
   "outputs": [
    {
     "data": {
      "text/plain": [
       "-203.82718204234732"
      ]
     },
     "execution_count": 95,
     "metadata": {},
     "output_type": "execute_result"
    }
   ],
   "source": [
    "# Profit per Trade\n",
    "\n",
    "'''\n",
    "I will consider the price at the end of the trading period \n",
    "of the assets not sold as part of the profit.\n",
    "'''\n",
    "\n",
    "leftover_value = df.iloc[-1][d.keys()]\n",
    "leftover_value = leftover_value[leftover_value > 0]\n",
    "\n",
    "pd.concat([trades['signed_value'], leftover_value]).mean()"
   ]
  },
  {
   "cell_type": "code",
   "execution_count": null,
   "metadata": {},
   "outputs": [],
   "source": []
  }
 ],
 "metadata": {
  "kernelspec": {
   "display_name": "cryptoto-IqJLIiLB-py3.12",
   "language": "python",
   "name": "python3"
  },
  "language_info": {
   "codemirror_mode": {
    "name": "ipython",
    "version": 3
   },
   "file_extension": ".py",
   "mimetype": "text/x-python",
   "name": "python",
   "nbconvert_exporter": "python",
   "pygments_lexer": "ipython3",
   "version": "3.12.4"
  }
 },
 "nbformat": 4,
 "nbformat_minor": 2
}
