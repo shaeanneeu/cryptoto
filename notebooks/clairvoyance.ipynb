{
 "cells": [
  {
   "cell_type": "code",
   "execution_count": 35,
   "metadata": {},
   "outputs": [],
   "source": [
    "import pandas as pd\n",
    "import ta\n",
    "import yfinance as yf\n",
    "\n",
    "asset = \"INTC\""
   ]
  },
  {
   "cell_type": "code",
   "execution_count": 36,
   "metadata": {},
   "outputs": [],
   "source": [
    "import yfinance as yf\n",
    "\n",
    "start_date = \"2025-03-01\"\n",
    "end_date = \"2025-04-01\"\n",
    "\n",
    "indicators = yf.Ticker(asset).history(start=start_date, end=end_date, actions=False)"
   ]
  },
  {
   "cell_type": "code",
   "execution_count": 37,
   "metadata": {},
   "outputs": [
    {
     "name": "stdout",
     "output_type": "stream",
     "text": [
      "1.3381518149547578\n",
      "32.96587819169516\n"
     ]
    }
   ],
   "source": [
    "# Long-only\n",
    "\n",
    "cash = 1e6\n",
    "holdings = 0\n",
    "for i in range(len(indicators) - 1):\n",
    "    today = indicators.iloc[i]['Close']\n",
    "    tmrw = indicators.iloc[i+1]['Close']\n",
    "    \n",
    "    if holdings > 0 and today > tmrw: # Sell\n",
    "        cash += holdings * today\n",
    "        holdings = 0\n",
    "        continue\n",
    "        \n",
    "    if holdings == 0 and today < tmrw: # Buy\n",
    "        units_to_buy = cash // today\n",
    "        holdings = units_to_buy\n",
    "        cash -= units_to_buy * today\n",
    "        continue\n",
    "\n",
    "cash += holdings * today\n",
    "holdings = 0\n",
    "\n",
    "print(cash / 1e6)\n",
    "print((cash / 1e6) ** 12)"
   ]
  }
 ],
 "metadata": {
  "kernelspec": {
   "display_name": "cryptoto-IqJLIiLB-py3.12",
   "language": "python",
   "name": "python3"
  },
  "language_info": {
   "codemirror_mode": {
    "name": "ipython",
    "version": 3
   },
   "file_extension": ".py",
   "mimetype": "text/x-python",
   "name": "python",
   "nbconvert_exporter": "python",
   "pygments_lexer": "ipython3",
   "version": "3.12.4"
  }
 },
 "nbformat": 4,
 "nbformat_minor": 2
}
