{
 "cells": [
  {
   "cell_type": "markdown",
   "metadata": {},
   "source": [
    "This notebook is used to determine which strategy is the best for any particular asset."
   ]
  },
  {
   "cell_type": "code",
   "execution_count": null,
   "metadata": {},
   "outputs": [],
   "source": [
    "import os\n",
    "import sys\n",
    "\n",
    "module_path = os.path.abspath(os.path.join(\"..\", \"src\"))\n",
    "\n",
    "if module_path not in sys.path:\n",
    "    sys.path.append(module_path)"
   ]
  },
  {
   "cell_type": "code",
   "execution_count": null,
   "metadata": {},
   "outputs": [],
   "source": [
    "import pandas as pd\n",
    "\n",
    "df = pd.read_csv(\"../data/processed/starting_portfolio.csv\")"
   ]
  },
  {
   "cell_type": "code",
   "execution_count": null,
   "metadata": {},
   "outputs": [],
   "source": [
    "import yfinance as yf\n",
    "\n",
    "start_date = \"2024-03-01\"\n",
    "end_date = \"2025-03-01\" # Last day is exclusive\n",
    "\n",
    "portfolio = {}\n",
    "for asset, weight in list(map(list, df.values)):\n",
    "    portfolio[asset] = {\n",
    "        \"data\": yf.Ticker(asset).history(start=start_date, end=end_date, actions=False),\n",
    "        \"weight\": weight,\n",
    "        \"strategy\": None,\n",
    "        \"num_trades\":0,\n",
    "        \"return\": float(\"-inf\"),\n",
    "    }"
   ]
  },
  {
   "cell_type": "code",
   "execution_count": null,
   "metadata": {},
   "outputs": [],
   "source": [
    "# Commission fee based on Webull, which is known for low commission fees:\n",
    "# https://www.webull.com.sg/pricing\n",
    "# Regular and Extended Hours (04:00 - 20:00 EST)\n",
    "# 0.025%*Total Trade Amount (Min. USD 0.50)\n",
    "\n",
    "def commission(order_size, price):\n",
    "    return max(0.5, abs(order_size) * price * 0.00025)"
   ]
  },
  {
   "cell_type": "markdown",
   "metadata": {},
   "source": [
    "## Testing with one asset and one strategy"
   ]
  },
  {
   "cell_type": "code",
   "execution_count": null,
   "metadata": {},
   "outputs": [],
   "source": [
    "from backtesting import Backtest\n",
    "\n",
    "from strategies.scalping import Scalping\n",
    "\n",
    "data = portfolio[\"CZR\"][\"data\"]\n",
    "data.index = data.index.values.astype(\"datetime64[D]\")\n",
    "bt = Backtest(\n",
    "    data, Scalping, cash=1000000*portfolio[\"CZR\"][\"weight\"], commission=commission\n",
    ")\n",
    "stats = bt.run()\n",
    "bt.plot()\n",
    "\n",
    "return_pct = stats[\"Return [%]\"]\n",
    "if return_pct >= portfolio[\"CZR\"][\"return\"]:\n",
    "    portfolio[\"CZR\"][\"strategy\"] = bt._strategy.__name__\n",
    "    portfolio[\"CZR\"][\"return\"] = return_pct"
   ]
  },
  {
   "cell_type": "code",
   "execution_count": null,
   "metadata": {},
   "outputs": [],
   "source": [
    "stats"
   ]
  },
  {
   "cell_type": "markdown",
   "metadata": {},
   "source": [
    "## Testing with all assets and one strategy"
   ]
  },
  {
   "cell_type": "code",
   "execution_count": null,
   "metadata": {},
   "outputs": [],
   "source": [
    "from backtesting import Backtest\n",
    "\n",
    "from strategies.mean_reversion import MeanReversion\n",
    "\n",
    "cryptocurrencies = [\"AVAX-USD\", \"SOL-USD\", \"LINK-USD\"]\n",
    "\n",
    "for asset in portfolio:\n",
    "    data = portfolio[asset][\"data\"]\n",
    "    data.index = data.index.values.astype(\"datetime64[D]\")\n",
    "    cash = 1000000 * portfolio[asset][\"weight\"]\n",
    "    if asset in cryptocurrencies:\n",
    "        # https://www.webullpay.com/\n",
    "        # No Direct Fees: Webull Pay does not charge separate fees for trading cryptocurrencies.\n",
    "        # Instead, a 1% spread (100 basis points) is included in the buying and selling prices\n",
    "        # of the crypto assets. This means the cost is integrated into the price you pay or\n",
    "        # receive when trading.\n",
    "        bt = Backtest(data, MeanReversion, cash=cash, spread=0.01)\n",
    "    else:\n",
    "        bt = Backtest(data, MeanReversion, cash=cash, commission=commission)\n",
    "    stats = bt.run()\n",
    "    return_pct = stats[\"Return [%]\"]\n",
    "    if return_pct >= portfolio[asset][\"return\"]:\n",
    "        portfolio[asset][\"strategy\"] = bt._strategy.__name__\n",
    "        portfolio[asset][\"return\"] = return_pct\n",
    "\n",
    "# NOTE: Many instances of broker cancelling the relative-sized order due to insufficient margin."
   ]
  },
  {
   "cell_type": "code",
   "execution_count": null,
   "metadata": {},
   "outputs": [],
   "source": [
    "results = pd.DataFrame(\n",
    "    [\n",
    "        [\n",
    "            asset,\n",
    "            portfolio[asset][\"weight\"],\n",
    "            portfolio[asset][\"strategy\"],\n",
    "            portfolio[asset][\"return\"]\n",
    "        ]\n",
    "        for asset in portfolio\n",
    "    ],\n",
    "    columns=[\"asset\", \"weight\", \"strategy\", \"return\"]\n",
    ")\n",
    "\n",
    "results"
   ]
  },
  {
   "cell_type": "markdown",
   "metadata": {},
   "source": [
    "## All assets and all strategies"
   ]
  },
  {
   "cell_type": "code",
   "execution_count": null,
   "metadata": {},
   "outputs": [],
   "source": [
    "from backtesting import Backtest\n",
    "\n",
    "from strategies.larry_williams_price_action import LarryWilliamsPriceAction\n",
    "from strategies.macd_bollinger_bands_mean_reversion import MACDBollingerBandsMeanReversion\n",
    "from strategies.mean_reversion import MeanReversion\n",
    "from strategies.michael_harris_price_action import MichaelHarrisPriceAction\n",
    "from strategies.momentum import Momentum\n",
    "from strategies.rsi_divergence import RSIDivergence\n",
    "from strategies.scalping import Scalping\n",
    "from strategies.volume_spike_reversal import VolumeSpikeReversal\n",
    "from strategies.bollinger_bands_breakout import BollingerBandsBreakout\n",
    "\n",
    "strategies = [\n",
    "    BollingerBandsBreakout,\n",
    "    LarryWilliamsPriceAction,\n",
    "    MACDBollingerBandsMeanReversion,\n",
    "    MeanReversion,\n",
    "    MichaelHarrisPriceAction,\n",
    "    Momentum,\n",
    "    RSIDivergence,\n",
    "    Scalping,\n",
    "    VolumeSpikeReversal,\n",
    "]\n",
    "\n",
    "\n",
    "cryptocurrencies = [\"AVAX-USD\", \"SOL-USD\", \"LINK-USD\"]\n",
    "\n",
    "for asset in portfolio:\n",
    "    for strategy in strategies:\n",
    "        data = portfolio[asset][\"data\"]\n",
    "        data.index = data.index.values.astype(\"datetime64[D]\")\n",
    "        cash = 1000000 * portfolio[asset][\"weight\"]\n",
    "        if asset in cryptocurrencies:\n",
    "            # https://www.webullpay.com/\n",
    "            # No Direct Fees: Webull Pay does not charge separate fees for trading cryptocurrencies.\n",
    "            # Instead, a 1% spread (100 basis points) is included in the buying and selling prices\n",
    "            # of the crypto assets. This means the cost is integrated into the price you pay or\n",
    "            # receive when trading.\n",
    "            bt = Backtest(data, strategy, cash=cash, spread=0.01, finalize_trades=True)\n",
    "        else:\n",
    "            bt = Backtest(data, strategy, cash=cash, commission=commission, finalize_trades=True)\n",
    "        stats = bt.run()\n",
    "        return_pct = stats[\"Return [%]\"]\n",
    "        if return_pct >= portfolio[asset][\"return\"]:\n",
    "            portfolio[asset][\"strategy\"] = bt._strategy.__name__\n",
    "            # portfolio[asset][\"num_trades\"] = stats[\"# Trades\"]\n",
    "            portfolio[asset][\"return\"] = return_pct\n",
    "\n",
    "# NOTE: Many instances of broker cancelling the relative-sized order due to insufficient margin."
   ]
  },
  {
   "cell_type": "code",
   "execution_count": null,
   "metadata": {},
   "outputs": [],
   "source": [
    "results = pd.DataFrame(\n",
    "    [\n",
    "        [\n",
    "            asset,\n",
    "            portfolio[asset][\"weight\"],\n",
    "            portfolio[asset][\"strategy\"],\n",
    "            # portfolio[asset][\"num_trades\"],\n",
    "            portfolio[asset][\"return\"]\n",
    "        ]\n",
    "        for asset in portfolio\n",
    "    ],\n",
    "    columns=[\"asset\", \"weight\", \"strategy\", \"return\"]\n",
    ")\n",
    "\n",
    "results.to_csv(\"../data/processed/asset_strategies.csv\", index=False)"
   ]
  }
 ],
 "metadata": {
  "kernelspec": {
   "display_name": "cryptoto",
   "language": "python",
   "name": "python3"
  },
  "language_info": {
   "codemirror_mode": {
    "name": "ipython",
    "version": 3
   },
   "file_extension": ".py",
   "mimetype": "text/x-python",
   "name": "python",
   "nbconvert_exporter": "python",
   "pygments_lexer": "ipython3",
   "version": "3.12.2"
  }
 },
 "nbformat": 4,
 "nbformat_minor": 2
}
