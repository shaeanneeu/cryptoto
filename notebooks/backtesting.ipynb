{
 "cells": [
  {
   "cell_type": "markdown",
   "metadata": {},
   "source": [
    "This notebook is used to determine which strategy is the best for any particular asset."
   ]
  },
  {
   "cell_type": "code",
   "execution_count": 1,
   "metadata": {},
   "outputs": [],
   "source": [
    "import os\n",
    "import sys\n",
    "\n",
    "module_path = os.path.abspath(os.path.join(\"..\", \"src\"))\n",
    "\n",
    "if module_path not in sys.path:\n",
    "    sys.path.append(module_path)"
   ]
  },
  {
   "cell_type": "code",
   "execution_count": 2,
   "metadata": {},
   "outputs": [],
   "source": [
    "import pandas as pd\n",
    "\n",
    "df = pd.read_csv(\"../data/processed/starting_portfolio_2months.csv\")"
   ]
  },
  {
   "cell_type": "markdown",
   "metadata": {},
   "source": [
    "Below, we use a longer time period just for the calculation of technical indicators s.t. we have values from our desired day 1 of backtesting. We will only run backtesting on a shorter time frame."
   ]
  },
  {
   "cell_type": "code",
   "execution_count": 3,
   "metadata": {},
   "outputs": [],
   "source": [
    "import yfinance as yf\n",
    "\n",
    "start_date = \"2023-03-01\"  # Longer time period for calculation of technical indicators\n",
    "true_start_date = \"2025-01-01\"  # True first day of backtesting\n",
    "end_date = \"2025-03-01\"  # Last day is exclusive\n",
    "\n",
    "portfolio = {}\n",
    "for asset, weight in list(map(list, df.values)):\n",
    "    portfolio[asset] = {\n",
    "        \"data\": yf.Ticker(asset).history(start=start_date, end=end_date, actions=False),\n",
    "        \"weight\": weight,\n",
    "    }"
   ]
  },
  {
   "cell_type": "code",
   "execution_count": 4,
   "metadata": {},
   "outputs": [],
   "source": [
    "# Commission fee based on Webull, which is known for low commission fees:\n",
    "# https://www.webull.com.sg/pricing\n",
    "# Regular and Extended Hours (04:00 - 20:00 EST)\n",
    "# 0.025%*Total Trade Amount (Min. USD 0.50)\n",
    "\n",
    "def commission(order_size, price):\n",
    "    return max(0.5, abs(order_size) * price * 0.00025)"
   ]
  },
  {
   "cell_type": "markdown",
   "metadata": {},
   "source": [
    "We calculate all the technical indicators required for all the strategies first before truncating the data. This is so that we have data on e.g. 50-day moving averages even on our desired day 1, but we only run backtesting from day 1 onwards."
   ]
  },
  {
   "cell_type": "code",
   "execution_count": 5,
   "metadata": {},
   "outputs": [],
   "source": [
    "import pandas_ta as ta\n",
    "\n",
    "\n",
    "def calculate_technical_indicators(df):\n",
    "    \"\"\"\n",
    "    We calculate all the technical indicators required for all the strategies first\n",
    "    before truncating the data. This is so that we have data on e.g. 50-day moving\n",
    "    averages even on our desired day 1, but we only run backtesting from day 1 onwards.\n",
    "    \"\"\"\n",
    "\n",
    "    # Core indicators\n",
    "    df[\"EMA_50\"] = ta.ema(df[\"Close\"], length=50)\n",
    "    df[\"EMA_200\"] = ta.ema(df[\"Close\"], length=200)\n",
    "    df[\"RSI\"] = ta.rsi(df[\"Close\"], length=14)\n",
    "    df[\"ATR\"] = ta.atr(df[\"High\"], df[\"Low\"], df[\"Close\"], length=7)\n",
    "\n",
    "    # Bollinger Bands of length 20\n",
    "    bbands = ta.bbands(df[\"Close\"], length=20)\n",
    "    bbands = bbands.rename(\n",
    "        columns={\n",
    "            \"BBU_20_2.0\": \"Upper_Band\",\n",
    "            \"BBM_20_2.0\": \"Middle_Band\",\n",
    "            \"BBL_20_2.0\": \"Lower_Band\",\n",
    "            \"BBB_20_2.0\": \"Band_Width\",\n",
    "            \"BBP_20_2.0\": \"Percent_B\",\n",
    "        }\n",
    "    )\n",
    "\n",
    "    # Bollinger Bands of length 200\n",
    "    bbands200 = ta.bbands(df[\"Close\"], length=200)\n",
    "    bbands200 = bbands200.rename(\n",
    "        columns={\n",
    "            \"BBU_200_2.0\": \"Upper_Band_200\",\n",
    "            \"BBM_200_2.0\": \"Middle_Band_200\",\n",
    "            \"BBL_200_2.0\": \"Lower_Band_200\",\n",
    "            \"BBB_200_2.0\": \"Band_Width_200\",\n",
    "            \"BBP_200_2.0\": \"Percent_B_200\",\n",
    "        }\n",
    "    )\n",
    "\n",
    "    # MACD\n",
    "    macd = ta.macd(df[\"Close\"])\n",
    "    macd = macd.rename(\n",
    "        columns={\n",
    "            \"MACD_12_26_9\": \"MACD\",\n",
    "            \"MACDh_12_26_9\": \"Histogram\",\n",
    "            \"MACDs_12_26_9\": \"Signal\",\n",
    "        }\n",
    "    )\n",
    "\n",
    "    # Miscellaneous\n",
    "    df[\"SMA_20\"] = ta.sma(df[\"Close\"], length=20)\n",
    "    df[\"STD_20\"] = ta.stdev(df[\"Close\"], length=20)\n",
    "    df[\"SMA_Volume_10\"] = ta.sma(df[\"Volume\"], length=10)\n",
    "    df[\"Momentum\"] = ta.mom(df[\"Close\"], length=10)\n",
    "\n",
    "    df = df.join([bbands, bbands200, macd])\n",
    "\n",
    "    return df"
   ]
  },
  {
   "cell_type": "code",
   "execution_count": 6,
   "metadata": {},
   "outputs": [],
   "source": [
    "from backtesting import Backtest\n",
    "\n",
    "\n",
    "def run_backtest(asset, strategy, plot=False):\n",
    "    data = portfolio[asset][\"data\"]\n",
    "    data = calculate_technical_indicators(portfolio[asset][\"data\"])\n",
    "    data.index = data.index.values.astype(\"datetime64[D]\")\n",
    "    data = data.loc[data.index >= true_start_date]\n",
    "    cash = 1000000 * portfolio[asset][\"weight\"]\n",
    "    if asset.endswith(\"-USD\"):  # Crypto\n",
    "        # https://www.webullpay.com/\n",
    "        # No Direct Fees: Webull Pay does not charge separate fees for trading cryptocurrencies.\n",
    "        # Instead, a 1% spread (100 basis points) is included in the buying and selling prices\n",
    "        # of the crypto assets. This means the cost is integrated into the price you pay or\n",
    "        # receive when trading.\n",
    "        bt = Backtest(data, strategy, cash=cash, spread=0.01, finalize_trades=True)\n",
    "    else:\n",
    "        bt = Backtest(\n",
    "            data, strategy, cash=cash, commission=commission, finalize_trades=True\n",
    "        )\n",
    "    stats = bt.run()\n",
    "    if plot:\n",
    "        bt.plot()\n",
    "    return bt, stats"
   ]
  },
  {
   "cell_type": "markdown",
   "metadata": {},
   "source": [
    "## All assets and all strategies"
   ]
  },
  {
   "cell_type": "code",
   "execution_count": 7,
   "metadata": {},
   "outputs": [],
   "source": [
    "from strategies.backtest.larry_williams_price_action import LarryWilliamsPriceAction\n",
    "from strategies.backtest.macd_bollinger_bands_mean_reversion import (\n",
    "    MACDBollingerBandsMeanReversion,\n",
    ")\n",
    "from strategies.backtest.mean_reversion import MeanReversion\n",
    "from strategies.backtest.michael_harris_price_action import MichaelHarrisPriceAction\n",
    "from strategies.backtest.momentum import Momentum\n",
    "from strategies.backtest.rsi_divergence import RSIDivergence\n",
    "from strategies.backtest.scalping import Scalping\n",
    "from strategies.backtest.volume_spike_reversal import VolumeSpikeReversal\n",
    "from strategies.backtest.bollinger_bands_breakout import BollingerBandsBreakout\n",
    "\n",
    "strategies = [\n",
    "    BollingerBandsBreakout,\n",
    "    LarryWilliamsPriceAction,\n",
    "    MACDBollingerBandsMeanReversion,\n",
    "    MeanReversion,\n",
    "    MichaelHarrisPriceAction,\n",
    "    Momentum,\n",
    "    RSIDivergence,\n",
    "    Scalping,\n",
    "    VolumeSpikeReversal,\n",
    "]\n",
    "\n",
    "cols = []\n",
    "\n",
    "for asset in portfolio:\n",
    "    for strategy in strategies:\n",
    "        bt, stats = run_backtest(asset, strategy, plot=False)\n",
    "        col = stats.drop([\"_equity_curve\", \"_trades\"])\n",
    "        col[\"Asset\"] = asset\n",
    "        col[\"Weight\"] = portfolio[asset][\"weight\"]\n",
    "        cols.append(col)\n",
    "\n",
    "# NOTE: Many instances of broker cancelling the relative-sized order due to insufficient margin."
   ]
  },
  {
   "cell_type": "code",
   "execution_count": 8,
   "metadata": {},
   "outputs": [],
   "source": [
    "results = pd.concat(cols, axis=1).transpose()\n",
    "results = results.rename(columns={\"_strategy\":\"Strategy\"})"
   ]
  },
  {
   "cell_type": "code",
   "execution_count": null,
   "metadata": {},
   "outputs": [],
   "source": [
    "results.to_csv(\"../data/experiments/asset_strategies_2_months_with_tpsl_new_exit_conditions.csv\", index=False)"
   ]
  },
  {
   "cell_type": "markdown",
   "metadata": {},
   "source": [
    "## Example filtering on results"
   ]
  },
  {
   "cell_type": "code",
   "execution_count": null,
   "metadata": {},
   "outputs": [],
   "source": [
    "results.columns"
   ]
  },
  {
   "cell_type": "code",
   "execution_count": 10,
   "metadata": {},
   "outputs": [],
   "source": [
    "idx = results.groupby(\"Asset\")[\"Return [%]\"].idxmax()\n",
    "results.loc[idx]"
   ]
  }
 ],
 "metadata": {
  "kernelspec": {
   "display_name": "cryptoto",
   "language": "python",
   "name": "python3"
  },
  "language_info": {
   "codemirror_mode": {
    "name": "ipython",
    "version": 3
   },
   "file_extension": ".py",
   "mimetype": "text/x-python",
   "name": "python",
   "nbconvert_exporter": "python",
   "pygments_lexer": "ipython3",
   "version": "3.12.2"
  }
 },
 "nbformat": 4,
 "nbformat_minor": 2
}
