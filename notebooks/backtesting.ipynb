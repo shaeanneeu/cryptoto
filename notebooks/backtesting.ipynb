{
 "cells": [
  {
   "cell_type": "markdown",
   "metadata": {},
   "source": [
    "This notebook is used to determine which strategy is the best for any particular asset."
   ]
  },
  {
   "cell_type": "code",
   "execution_count": 1,
   "metadata": {},
   "outputs": [],
   "source": [
    "import os\n",
    "import sys\n",
    "\n",
    "module_path = os.path.abspath(os.path.join(\"..\", \"src\"))\n",
    "\n",
    "if module_path not in sys.path:\n",
    "    sys.path.append(module_path)"
   ]
  },
  {
   "cell_type": "code",
   "execution_count": 2,
   "metadata": {},
   "outputs": [],
   "source": [
    "import pandas as pd\n",
    "\n",
    "df = pd.read_csv(\"../data/processed/starting_portfolio.csv\")"
   ]
  },
  {
   "cell_type": "code",
   "execution_count": null,
   "metadata": {},
   "outputs": [],
   "source": [
    "import yfinance as yf\n",
    "\n",
    "start_date = \"2024-03-01\"\n",
    "end_date = \"2025-02-28\"\n",
    "\n",
    "portfolio = {}\n",
    "for asset, weight in list(map(list, df.values)):\n",
    "    portfolio[asset] = {\n",
    "        \"data\": yf.Ticker(asset).history(start=start_date, end=end_date, actions=False),\n",
    "        \"weight\": weight,\n",
    "        \"strategy\": None,\n",
    "        \"best_return\": float(\"-inf\"),\n",
    "    }"
   ]
  },
  {
   "cell_type": "markdown",
   "metadata": {},
   "source": [
    "## Testing with one asset and one strategy"
   ]
  },
  {
   "cell_type": "code",
   "execution_count": null,
   "metadata": {},
   "outputs": [],
   "source": [
    "from backtesting import Backtest\n",
    "\n",
    "from strategies.larry_williams_price_action import LarryWilliamsPriceAction\n",
    "\n",
    "data = portfolio[\"BXP\"][\"data\"]\n",
    "data.index = data.index.values.astype(\"datetime64[D]\")\n",
    "bt = Backtest(\n",
    "    data, LarryWilliamsPriceAction, cash=1000000, commission=0.002, exclusive_orders=True\n",
    ")\n",
    "stats = bt.run()\n",
    "return_pct = stats[\"Return [%]\"]\n",
    "if return_pct >= portfolio[\"BXP\"][\"best_return\"]:\n",
    "    portfolio[\"BXP\"][\"strategy\"] = bt._strategy.__name__\n",
    "    portfolio[\"BXP\"][\"best_return\"] = return_pct"
   ]
  },
  {
   "cell_type": "code",
   "execution_count": null,
   "metadata": {},
   "outputs": [],
   "source": [
    "stats._trades"
   ]
  },
  {
   "cell_type": "markdown",
   "metadata": {},
   "source": [
    "## All assets and all strategies"
   ]
  },
  {
   "cell_type": "code",
   "execution_count": null,
   "metadata": {},
   "outputs": [],
   "source": [
    "from backtesting import Backtest\n",
    "\n",
    "from strategies.larry_williams_price_action import LarryWilliamsPriceAction\n",
    "from strategies.macd_bollinger_bands_mean_reversion import MACDBollingerBandsMeanReversion\n",
    "from strategies.bollinger_bands_breakout import BollingerBandsBreakout\n",
    "\n",
    "# TODO: Add more\n",
    "strategies = [LarryWilliamsPriceAction, MACDBollingerBandsMeanReversion, BollingerBandsBreakout]\n",
    "\n",
    "for asset in portfolio:\n",
    "    for strategy in strategies:\n",
    "        data = portfolio[asset][\"data\"]\n",
    "        data.index = data.index.values.astype(\"datetime64[D]\")\n",
    "        bt = Backtest(\n",
    "            data, strategy, cash=1000000, commission=0.002, exclusive_orders=True\n",
    "        )\n",
    "        stats = bt.run()\n",
    "        return_pct = stats[\"Return [%]\"]\n",
    "        if return_pct >= portfolio[asset][\"best_return\"]:\n",
    "            portfolio[asset][\"strategy\"] = bt._strategy.__name__\n",
    "            portfolio[asset][\"best_return\"] = return_pct"
   ]
  },
  {
   "cell_type": "code",
   "execution_count": null,
   "metadata": {},
   "outputs": [],
   "source": [
    "results = pd.DataFrame(\n",
    "    [\n",
    "        [\n",
    "            asset,\n",
    "            portfolio[asset][\"weight\"],\n",
    "            portfolio[asset][\"strategy\"],\n",
    "        ]\n",
    "        for asset in portfolio\n",
    "    ],\n",
    "    columns=[\"asset\", \"weight\", \"strategy\"]\n",
    ")\n",
    "\n",
    "results.to_csv(\"../data/misc/example_backtesting.csv\", index=False)"
   ]
  }
 ],
 "metadata": {
  "kernelspec": {
   "display_name": "cryptoto",
   "language": "python",
   "name": "python3"
  },
  "language_info": {
   "codemirror_mode": {
    "name": "ipython",
    "version": 3
   },
   "file_extension": ".py",
   "mimetype": "text/x-python",
   "name": "python",
   "nbconvert_exporter": "python",
   "pygments_lexer": "ipython3",
   "version": "3.12.2"
  }
 },
 "nbformat": 4,
 "nbformat_minor": 2
}
