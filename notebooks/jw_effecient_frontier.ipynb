{
 "cells": [
  {
   "cell_type": "markdown",
   "metadata": {},
   "source": [
    "## Efficient Frontier\n",
    "\n",
    "**Joshua and Jingwen**\n",
    "\n",
    "The Efficient Frontier represents the set of optimal portfolios offering the highest expected return for a given level of risk. It is derived by analyzing different portfolio combinations and plotting risk (measured by standard deviation) against expected return. Any portfolio below the frontier is suboptimal, as higher returns could be achieved for the same risk level."
   ]
  },
  {
   "cell_type": "markdown",
   "metadata": {},
   "source": [
    "### Initialization"
   ]
  },
  {
   "cell_type": "code",
   "execution_count": 361,
   "metadata": {},
   "outputs": [],
   "source": [
    "import pandas as pd\n",
    "import seaborn as sns\n",
    "import matplotlib.pyplot as plt\n",
    "import numpy as np\n",
    "import tqdm\n",
    "\n",
    "from pypfopt.efficient_frontier import EfficientFrontier\n",
    "from pypfopt import risk_models, expected_returns, plotting"
   ]
  },
  {
   "cell_type": "code",
   "execution_count": 362,
   "metadata": {},
   "outputs": [
    {
     "data": {
      "text/html": [
       "<div>\n",
       "<style scoped>\n",
       "    .dataframe tbody tr th:only-of-type {\n",
       "        vertical-align: middle;\n",
       "    }\n",
       "\n",
       "    .dataframe tbody tr th {\n",
       "        vertical-align: top;\n",
       "    }\n",
       "\n",
       "    .dataframe thead th {\n",
       "        text-align: right;\n",
       "    }\n",
       "</style>\n",
       "<table border=\"1\" class=\"dataframe\">\n",
       "  <thead>\n",
       "    <tr style=\"text-align: right;\">\n",
       "      <th></th>\n",
       "      <th>A</th>\n",
       "      <th>AAPL</th>\n",
       "      <th>ABBV</th>\n",
       "      <th>ABNB</th>\n",
       "      <th>ABT</th>\n",
       "      <th>ACGL</th>\n",
       "      <th>ACN</th>\n",
       "      <th>ADBE</th>\n",
       "      <th>ADI</th>\n",
       "      <th>ADM</th>\n",
       "      <th>...</th>\n",
       "      <th>ZTS</th>\n",
       "      <th>ADA-USD</th>\n",
       "      <th>AVAX-USD</th>\n",
       "      <th>BTC-USD</th>\n",
       "      <th>ETH-USD</th>\n",
       "      <th>LINK-USD</th>\n",
       "      <th>LTC-USD</th>\n",
       "      <th>SOL-USD</th>\n",
       "      <th>UNI-USD</th>\n",
       "      <th>XRP-USD</th>\n",
       "    </tr>\n",
       "    <tr>\n",
       "      <th>date</th>\n",
       "      <th></th>\n",
       "      <th></th>\n",
       "      <th></th>\n",
       "      <th></th>\n",
       "      <th></th>\n",
       "      <th></th>\n",
       "      <th></th>\n",
       "      <th></th>\n",
       "      <th></th>\n",
       "      <th></th>\n",
       "      <th></th>\n",
       "      <th></th>\n",
       "      <th></th>\n",
       "      <th></th>\n",
       "      <th></th>\n",
       "      <th></th>\n",
       "      <th></th>\n",
       "      <th></th>\n",
       "      <th></th>\n",
       "      <th></th>\n",
       "      <th></th>\n",
       "    </tr>\n",
       "  </thead>\n",
       "  <tbody>\n",
       "    <tr>\n",
       "      <th>2024-03-15</th>\n",
       "      <td>146.463730</td>\n",
       "      <td>171.808746</td>\n",
       "      <td>171.628006</td>\n",
       "      <td>160.639999</td>\n",
       "      <td>113.183418</td>\n",
       "      <td>87.368553</td>\n",
       "      <td>370.019684</td>\n",
       "      <td>492.459991</td>\n",
       "      <td>192.012970</td>\n",
       "      <td>57.146446</td>\n",
       "      <td>...</td>\n",
       "      <td>170.748978</td>\n",
       "      <td>NaN</td>\n",
       "      <td>NaN</td>\n",
       "      <td>NaN</td>\n",
       "      <td>NaN</td>\n",
       "      <td>NaN</td>\n",
       "      <td>NaN</td>\n",
       "      <td>NaN</td>\n",
       "      <td>NaN</td>\n",
       "      <td>NaN</td>\n",
       "    </tr>\n",
       "    <tr>\n",
       "      <th>2024-03-18</th>\n",
       "      <td>145.083298</td>\n",
       "      <td>172.903580</td>\n",
       "      <td>172.216553</td>\n",
       "      <td>161.860001</td>\n",
       "      <td>110.194344</td>\n",
       "      <td>86.912125</td>\n",
       "      <td>368.113281</td>\n",
       "      <td>513.859985</td>\n",
       "      <td>188.097961</td>\n",
       "      <td>58.206318</td>\n",
       "      <td>...</td>\n",
       "      <td>168.888824</td>\n",
       "      <td>0.661258</td>\n",
       "      <td>60.689945</td>\n",
       "      <td>67548.593750</td>\n",
       "      <td>3517.985107</td>\n",
       "      <td>18.324354</td>\n",
       "      <td>87.112206</td>\n",
       "      <td>195.992752</td>\n",
       "      <td>0.000217</td>\n",
       "      <td>0.647565</td>\n",
       "    </tr>\n",
       "    <tr>\n",
       "      <th>2024-03-19</th>\n",
       "      <td>146.374374</td>\n",
       "      <td>175.252502</td>\n",
       "      <td>173.345444</td>\n",
       "      <td>161.789993</td>\n",
       "      <td>110.899956</td>\n",
       "      <td>87.168869</td>\n",
       "      <td>373.457123</td>\n",
       "      <td>521.190002</td>\n",
       "      <td>187.429062</td>\n",
       "      <td>58.803699</td>\n",
       "      <td>...</td>\n",
       "      <td>171.134842</td>\n",
       "      <td>0.586914</td>\n",
       "      <td>53.525894</td>\n",
       "      <td>61912.773438</td>\n",
       "      <td>3157.618164</td>\n",
       "      <td>16.809296</td>\n",
       "      <td>78.586372</td>\n",
       "      <td>170.016281</td>\n",
       "      <td>0.000198</td>\n",
       "      <td>0.584441</td>\n",
       "    </tr>\n",
       "    <tr>\n",
       "      <th>2024-03-20</th>\n",
       "      <td>146.265106</td>\n",
       "      <td>177.830292</td>\n",
       "      <td>170.074600</td>\n",
       "      <td>164.710007</td>\n",
       "      <td>109.273117</td>\n",
       "      <td>87.701378</td>\n",
       "      <td>375.788269</td>\n",
       "      <td>519.140015</td>\n",
       "      <td>191.147369</td>\n",
       "      <td>59.073486</td>\n",
       "      <td>...</td>\n",
       "      <td>169.185654</td>\n",
       "      <td>0.639481</td>\n",
       "      <td>57.030720</td>\n",
       "      <td>67913.671875</td>\n",
       "      <td>3513.393066</td>\n",
       "      <td>18.406483</td>\n",
       "      <td>84.789017</td>\n",
       "      <td>191.549622</td>\n",
       "      <td>0.000217</td>\n",
       "      <td>0.612162</td>\n",
       "    </tr>\n",
       "    <tr>\n",
       "      <th>2024-03-21</th>\n",
       "      <td>147.715057</td>\n",
       "      <td>170.564621</td>\n",
       "      <td>171.261353</td>\n",
       "      <td>168.179993</td>\n",
       "      <td>109.282906</td>\n",
       "      <td>86.236992</td>\n",
       "      <td>340.811249</td>\n",
       "      <td>511.250000</td>\n",
       "      <td>191.963791</td>\n",
       "      <td>60.191174</td>\n",
       "      <td>...</td>\n",
       "      <td>166.543823</td>\n",
       "      <td>0.631868</td>\n",
       "      <td>53.865566</td>\n",
       "      <td>65491.390625</td>\n",
       "      <td>3492.991211</td>\n",
       "      <td>18.431383</td>\n",
       "      <td>85.701622</td>\n",
       "      <td>179.220749</td>\n",
       "      <td>0.000210</td>\n",
       "      <td>0.640691</td>\n",
       "    </tr>\n",
       "    <tr>\n",
       "      <th>...</th>\n",
       "      <td>...</td>\n",
       "      <td>...</td>\n",
       "      <td>...</td>\n",
       "      <td>...</td>\n",
       "      <td>...</td>\n",
       "      <td>...</td>\n",
       "      <td>...</td>\n",
       "      <td>...</td>\n",
       "      <td>...</td>\n",
       "      <td>...</td>\n",
       "      <td>...</td>\n",
       "      <td>...</td>\n",
       "      <td>...</td>\n",
       "      <td>...</td>\n",
       "      <td>...</td>\n",
       "      <td>...</td>\n",
       "      <td>...</td>\n",
       "      <td>...</td>\n",
       "      <td>...</td>\n",
       "      <td>...</td>\n",
       "      <td>...</td>\n",
       "    </tr>\n",
       "    <tr>\n",
       "      <th>2025-03-10</th>\n",
       "      <td>121.900002</td>\n",
       "      <td>227.479996</td>\n",
       "      <td>216.660004</td>\n",
       "      <td>132.149994</td>\n",
       "      <td>137.360001</td>\n",
       "      <td>90.720001</td>\n",
       "      <td>335.299988</td>\n",
       "      <td>435.079987</td>\n",
       "      <td>216.259995</td>\n",
       "      <td>50.610001</td>\n",
       "      <td>...</td>\n",
       "      <td>171.800003</td>\n",
       "      <td>0.672597</td>\n",
       "      <td>16.285971</td>\n",
       "      <td>78532.000000</td>\n",
       "      <td>1861.151367</td>\n",
       "      <td>12.693139</td>\n",
       "      <td>87.557991</td>\n",
       "      <td>118.291748</td>\n",
       "      <td>0.000158</td>\n",
       "      <td>2.018294</td>\n",
       "    </tr>\n",
       "    <tr>\n",
       "      <th>2025-03-11</th>\n",
       "      <td>121.029999</td>\n",
       "      <td>220.839996</td>\n",
       "      <td>213.589996</td>\n",
       "      <td>125.440002</td>\n",
       "      <td>132.660004</td>\n",
       "      <td>90.089996</td>\n",
       "      <td>327.790009</td>\n",
       "      <td>433.660004</td>\n",
       "      <td>209.080002</td>\n",
       "      <td>48.639999</td>\n",
       "      <td>...</td>\n",
       "      <td>164.389999</td>\n",
       "      <td>0.722587</td>\n",
       "      <td>17.474718</td>\n",
       "      <td>82862.210938</td>\n",
       "      <td>1919.844971</td>\n",
       "      <td>13.099883</td>\n",
       "      <td>90.332718</td>\n",
       "      <td>125.263947</td>\n",
       "      <td>0.000166</td>\n",
       "      <td>2.166916</td>\n",
       "    </tr>\n",
       "    <tr>\n",
       "      <th>2025-03-12</th>\n",
       "      <td>119.849998</td>\n",
       "      <td>216.979996</td>\n",
       "      <td>212.059998</td>\n",
       "      <td>126.550003</td>\n",
       "      <td>130.279999</td>\n",
       "      <td>89.160004</td>\n",
       "      <td>324.329987</td>\n",
       "      <td>438.600006</td>\n",
       "      <td>206.619995</td>\n",
       "      <td>47.080002</td>\n",
       "      <td>...</td>\n",
       "      <td>161.679993</td>\n",
       "      <td>0.735444</td>\n",
       "      <td>18.899162</td>\n",
       "      <td>83722.359375</td>\n",
       "      <td>1908.982666</td>\n",
       "      <td>13.482376</td>\n",
       "      <td>91.489655</td>\n",
       "      <td>126.583244</td>\n",
       "      <td>0.000168</td>\n",
       "      <td>2.240755</td>\n",
       "    </tr>\n",
       "    <tr>\n",
       "      <th>2025-03-13</th>\n",
       "      <td>117.330002</td>\n",
       "      <td>209.679993</td>\n",
       "      <td>211.550003</td>\n",
       "      <td>119.379997</td>\n",
       "      <td>129.889999</td>\n",
       "      <td>90.410004</td>\n",
       "      <td>317.070007</td>\n",
       "      <td>377.839996</td>\n",
       "      <td>203.800003</td>\n",
       "      <td>47.250000</td>\n",
       "      <td>...</td>\n",
       "      <td>160.059998</td>\n",
       "      <td>0.702289</td>\n",
       "      <td>18.499714</td>\n",
       "      <td>81066.703125</td>\n",
       "      <td>1862.969604</td>\n",
       "      <td>13.027454</td>\n",
       "      <td>88.030502</td>\n",
       "      <td>123.286148</td>\n",
       "      <td>0.000163</td>\n",
       "      <td>2.251008</td>\n",
       "    </tr>\n",
       "    <tr>\n",
       "      <th>2025-03-14</th>\n",
       "      <td>121.180000</td>\n",
       "      <td>213.490005</td>\n",
       "      <td>211.770004</td>\n",
       "      <td>122.860001</td>\n",
       "      <td>126.709999</td>\n",
       "      <td>92.570000</td>\n",
       "      <td>318.820007</td>\n",
       "      <td>394.739990</td>\n",
       "      <td>208.750000</td>\n",
       "      <td>47.180000</td>\n",
       "      <td>...</td>\n",
       "      <td>161.259995</td>\n",
       "      <td>0.738316</td>\n",
       "      <td>18.569935</td>\n",
       "      <td>83969.101562</td>\n",
       "      <td>1909.467529</td>\n",
       "      <td>13.679569</td>\n",
       "      <td>91.333908</td>\n",
       "      <td>133.314484</td>\n",
       "      <td>0.000169</td>\n",
       "      <td>2.356443</td>\n",
       "    </tr>\n",
       "  </tbody>\n",
       "</table>\n",
       "<p>250 rows × 507 columns</p>\n",
       "</div>"
      ],
      "text/plain": [
       "                     A        AAPL        ABBV        ABNB         ABT  \\\n",
       "date                                                                     \n",
       "2024-03-15  146.463730  171.808746  171.628006  160.639999  113.183418   \n",
       "2024-03-18  145.083298  172.903580  172.216553  161.860001  110.194344   \n",
       "2024-03-19  146.374374  175.252502  173.345444  161.789993  110.899956   \n",
       "2024-03-20  146.265106  177.830292  170.074600  164.710007  109.273117   \n",
       "2024-03-21  147.715057  170.564621  171.261353  168.179993  109.282906   \n",
       "...                ...         ...         ...         ...         ...   \n",
       "2025-03-10  121.900002  227.479996  216.660004  132.149994  137.360001   \n",
       "2025-03-11  121.029999  220.839996  213.589996  125.440002  132.660004   \n",
       "2025-03-12  119.849998  216.979996  212.059998  126.550003  130.279999   \n",
       "2025-03-13  117.330002  209.679993  211.550003  119.379997  129.889999   \n",
       "2025-03-14  121.180000  213.490005  211.770004  122.860001  126.709999   \n",
       "\n",
       "                 ACGL         ACN        ADBE         ADI        ADM  ...  \\\n",
       "date                                                                  ...   \n",
       "2024-03-15  87.368553  370.019684  492.459991  192.012970  57.146446  ...   \n",
       "2024-03-18  86.912125  368.113281  513.859985  188.097961  58.206318  ...   \n",
       "2024-03-19  87.168869  373.457123  521.190002  187.429062  58.803699  ...   \n",
       "2024-03-20  87.701378  375.788269  519.140015  191.147369  59.073486  ...   \n",
       "2024-03-21  86.236992  340.811249  511.250000  191.963791  60.191174  ...   \n",
       "...               ...         ...         ...         ...        ...  ...   \n",
       "2025-03-10  90.720001  335.299988  435.079987  216.259995  50.610001  ...   \n",
       "2025-03-11  90.089996  327.790009  433.660004  209.080002  48.639999  ...   \n",
       "2025-03-12  89.160004  324.329987  438.600006  206.619995  47.080002  ...   \n",
       "2025-03-13  90.410004  317.070007  377.839996  203.800003  47.250000  ...   \n",
       "2025-03-14  92.570000  318.820007  394.739990  208.750000  47.180000  ...   \n",
       "\n",
       "                   ZTS   ADA-USD   AVAX-USD       BTC-USD      ETH-USD  \\\n",
       "date                                                                     \n",
       "2024-03-15  170.748978       NaN        NaN           NaN          NaN   \n",
       "2024-03-18  168.888824  0.661258  60.689945  67548.593750  3517.985107   \n",
       "2024-03-19  171.134842  0.586914  53.525894  61912.773438  3157.618164   \n",
       "2024-03-20  169.185654  0.639481  57.030720  67913.671875  3513.393066   \n",
       "2024-03-21  166.543823  0.631868  53.865566  65491.390625  3492.991211   \n",
       "...                ...       ...        ...           ...          ...   \n",
       "2025-03-10  171.800003  0.672597  16.285971  78532.000000  1861.151367   \n",
       "2025-03-11  164.389999  0.722587  17.474718  82862.210938  1919.844971   \n",
       "2025-03-12  161.679993  0.735444  18.899162  83722.359375  1908.982666   \n",
       "2025-03-13  160.059998  0.702289  18.499714  81066.703125  1862.969604   \n",
       "2025-03-14  161.259995  0.738316  18.569935  83969.101562  1909.467529   \n",
       "\n",
       "             LINK-USD    LTC-USD     SOL-USD   UNI-USD   XRP-USD  \n",
       "date                                                              \n",
       "2024-03-15        NaN        NaN         NaN       NaN       NaN  \n",
       "2024-03-18  18.324354  87.112206  195.992752  0.000217  0.647565  \n",
       "2024-03-19  16.809296  78.586372  170.016281  0.000198  0.584441  \n",
       "2024-03-20  18.406483  84.789017  191.549622  0.000217  0.612162  \n",
       "2024-03-21  18.431383  85.701622  179.220749  0.000210  0.640691  \n",
       "...               ...        ...         ...       ...       ...  \n",
       "2025-03-10  12.693139  87.557991  118.291748  0.000158  2.018294  \n",
       "2025-03-11  13.099883  90.332718  125.263947  0.000166  2.166916  \n",
       "2025-03-12  13.482376  91.489655  126.583244  0.000168  2.240755  \n",
       "2025-03-13  13.027454  88.030502  123.286148  0.000163  2.251008  \n",
       "2025-03-14  13.679569  91.333908  133.314484  0.000169  2.356443  \n",
       "\n",
       "[250 rows x 507 columns]"
      ]
     },
     "execution_count": 362,
     "metadata": {},
     "output_type": "execute_result"
    }
   ],
   "source": [
    "# Load S&P 500 prices\n",
    "sp500_prices = pd \\\n",
    "    .read_csv(\"../data/raw/tessa_sp500_prices.csv\") \\\n",
    "    .drop(columns=['GEV', 'SOLV', 'SW']) \\\n",
    "    .iloc[: , 1:] \\\n",
    "    .set_index(\"date\", inplace=False)\n",
    "    \n",
    "# Load NCI prices\n",
    "nci_prices = pd \\\n",
    "    .read_csv(\"../data/raw/tessa_nci_prices.csv\") \\\n",
    "    .iloc[: , 1:] \\\n",
    "    .set_index(\"date\", inplace=False)\n",
    "\n",
    "# Left join on S&P\n",
    "data = pd.merge(sp500_prices, nci_prices, on=\"date\", how=\"left\")\n",
    "\n",
    "data"
   ]
  },
  {
   "cell_type": "code",
   "execution_count": 363,
   "metadata": {},
   "outputs": [
    {
     "name": "stdout",
     "output_type": "stream",
     "text": [
      "NA values in each column:\n",
      " ADA-USD     1\n",
      "AVAX-USD    1\n",
      "BTC-USD     1\n",
      "ETH-USD     1\n",
      "LINK-USD    1\n",
      "LTC-USD     1\n",
      "SOL-USD     1\n",
      "UNI-USD     1\n",
      "XRP-USD     1\n",
      "dtype: int64\n"
     ]
    }
   ],
   "source": [
    "# Check for NA values in the DataFrame\n",
    "na_check = data.isna().sum()\n",
    "print(\"NA values in each column:\\n\", na_check[na_check > 0])"
   ]
  },
  {
   "cell_type": "markdown",
   "metadata": {},
   "source": [
    "## JW Mean Return"
   ]
  },
  {
   "cell_type": "code",
   "execution_count": 382,
   "metadata": {},
   "outputs": [
    {
     "data": {
      "text/plain": [
       "np.float64(0.006036061062480324)"
      ]
     },
     "execution_count": 382,
     "metadata": {},
     "output_type": "execute_result"
    }
   ],
   "source": [
    "jwmean = ((data - data.shift(1)) / data.shift(1)).dropna().mean()\n",
    "\n",
    "jwmean['PLTR']"
   ]
  },
  {
   "cell_type": "code",
   "execution_count": 365,
   "metadata": {},
   "outputs": [],
   "source": [
    "# Calculate expected returns and sample covariance\n",
    "mu = jwmean\n",
    "S = risk_models.CovarianceShrinkage(data).ledoit_wolf()"
   ]
  },
  {
   "cell_type": "code",
   "execution_count": 366,
   "metadata": {},
   "outputs": [
    {
     "data": {
      "text/plain": [
       "CE         -0.003626\n",
       "MRNA       -0.003530\n",
       "AVAX-USD   -0.002940\n",
       "EL         -0.002678\n",
       "DLTR       -0.002372\n",
       "              ...   \n",
       "AXON        0.002896\n",
       "VST         0.003864\n",
       "TPL         0.004054\n",
       "PLTR        0.006036\n",
       "XRP-USD     0.006991\n",
       "Length: 507, dtype: float64"
      ]
     },
     "execution_count": 366,
     "metadata": {},
     "output_type": "execute_result"
    }
   ],
   "source": [
    "mu\n",
    "mu.sort_values()"
   ]
  },
  {
   "cell_type": "code",
   "execution_count": 367,
   "metadata": {},
   "outputs": [
    {
     "data": {
      "text/plain": [
       "np.float64(1.0932721082415404)"
      ]
     },
     "execution_count": 367,
     "metadata": {},
     "output_type": "execute_result"
    }
   ],
   "source": [
    "(mu.mean() + 1)**252"
   ]
  },
  {
   "cell_type": "code",
   "execution_count": 368,
   "metadata": {},
   "outputs": [
    {
     "name": "stdout",
     "output_type": "stream",
     "text": [
      "Expected annual return: 0.2%\n",
      "Annual volatility: 9.3%\n",
      "Sharpe Ratio: 0.02\n"
     ]
    },
    {
     "data": {
      "text/plain": [
       "(np.float64(0.002227408454006919),\n",
       " np.float64(0.09268415518276811),\n",
       " np.float64(0.024032246392218723))"
      ]
     },
     "execution_count": 368,
     "metadata": {},
     "output_type": "execute_result"
    }
   ],
   "source": [
    "# Optimize for maximal Sharpe ratio\n",
    "ef = EfficientFrontier(mu, S, solver='SCS')\n",
    "weights = ef.max_sharpe()\n",
    "ef.portfolio_performance(verbose=True)"
   ]
  },
  {
   "cell_type": "code",
   "execution_count": 369,
   "metadata": {},
   "outputs": [
    {
     "name": "stdout",
     "output_type": "stream",
     "text": [
      "Expected annual return: 0.7%\n",
      "Annual volatility: 84.9%\n",
      "Sharpe Ratio: 0.01\n",
      "(np.float64(0.006891455413294951), np.float64(0.8489373691097668), np.float64(0.008117743032706447))\n"
     ]
    },
    {
     "name": "stderr",
     "output_type": "stream",
     "text": [
      "c:\\Users\\JW\\AppData\\Local\\pypoetry\\Cache\\virtualenvs\\cryptoto-IqJLIiLB-py3.12\\Lib\\site-packages\\pypfopt\\efficient_frontier\\efficient_frontier.py:441: UserWarning: The risk_free_rate provided to portfolio_performance is different to the one used by max_sharpe. Using the previous value.\n",
      "  warnings.warn(\n"
     ]
    },
    {
     "data": {
      "image/png": "[encoded data removed]",
      "text/plain": [
       "<Figure size 640x480 with 1 Axes>"
      ]
     },
     "metadata": {},
     "output_type": "display_data"
    }
   ],
   "source": [
    "# Instantiate EF problem\n",
    "ef = EfficientFrontier(mu, S,\n",
    "    solver='SCS'\n",
    ")\n",
    "\n",
    "# Generate plot\n",
    "fig, ax = plt.subplots()\n",
    "ef_max_sharpe = ef.deepcopy()\n",
    "plotting.plot_efficient_frontier(ef, ax=ax, show_assets=True)\n",
    "\n",
    "# Find the tangency portfolio\n",
    "ef_max_sharpe.max_sharpe()\n",
    "ret_tangent, std_tangent, _ = ef_max_sharpe.portfolio_performance(risk_free_rate=0.0431)\n",
    "ax.scatter(std_tangent, ret_tangent, marker=\"*\", s=100, c=\"r\", label=\"Max Sharpe\")\n",
    "\n",
    "# Log performance\n",
    "print(ef.portfolio_performance(verbose=True))\n",
    "\n",
    "# Output\n",
    "ax.set_title(\"Efficient Frontier Mean Historical\")\n",
    "ax.legend()\n",
    "plt.tight_layout()\n",
    "plt.savefig(\"ef_scatter.png\", dpi=200)\n",
    "plt.show()"
   ]
  },
  {
   "cell_type": "markdown",
   "metadata": {},
   "source": [
    "## Mean Return"
   ]
  },
  {
   "cell_type": "code",
   "execution_count": 370,
   "metadata": {},
   "outputs": [],
   "source": [
    "# Calculate expected returns and sample covariance\n",
    "mu = expected_returns.mean_historical_return(data, compounding=False)\n",
    "S = risk_models.CovarianceShrinkage(data).ledoit_wolf()"
   ]
  },
  {
   "cell_type": "code",
   "execution_count": 371,
   "metadata": {},
   "outputs": [
    {
     "data": {
      "text/plain": [
       "CE         -0.895728\n",
       "MRNA       -0.881903\n",
       "AVAX-USD   -0.740923\n",
       "EL         -0.685199\n",
       "DLTR       -0.596605\n",
       "              ...   \n",
       "AXON        0.729566\n",
       "VST         0.984889\n",
       "TPL         1.019683\n",
       "PLTR        1.536952\n",
       "XRP-USD     1.761820\n",
       "Length: 507, dtype: float64"
      ]
     },
     "execution_count": 371,
     "metadata": {},
     "output_type": "execute_result"
    }
   ],
   "source": [
    "mu\n",
    "mu.sort_values()"
   ]
  },
  {
   "cell_type": "code",
   "execution_count": 372,
   "metadata": {},
   "outputs": [
    {
     "name": "stdout",
     "output_type": "stream",
     "text": [
      "Expected annual return: 56.1%\n",
      "Annual volatility: 9.2%\n",
      "Sharpe Ratio: 6.12\n"
     ]
    },
    {
     "data": {
      "text/plain": [
       "(np.float64(0.5612088279478407),\n",
       " np.float64(0.09168313268449445),\n",
       " np.float64(6.121178580133234))"
      ]
     },
     "execution_count": 372,
     "metadata": {},
     "output_type": "execute_result"
    }
   ],
   "source": [
    "# Optimize for maximal Sharpe ratio\n",
    "ef = EfficientFrontier(mu, S, solver='SCS')\n",
    "weights = ef.max_sharpe()\n",
    "ef.portfolio_performance(verbose=True)"
   ]
  },
  {
   "cell_type": "code",
   "execution_count": 373,
   "metadata": {},
   "outputs": [
    {
     "name": "stderr",
     "output_type": "stream",
     "text": [
      "c:\\Users\\JW\\AppData\\Local\\pypoetry\\Cache\\virtualenvs\\cryptoto-IqJLIiLB-py3.12\\Lib\\site-packages\\pypfopt\\efficient_frontier\\efficient_frontier.py:441: UserWarning: The risk_free_rate provided to portfolio_performance is different to the one used by max_sharpe. Using the previous value.\n",
      "  warnings.warn(\n"
     ]
    },
    {
     "name": "stdout",
     "output_type": "stream",
     "text": [
      "Expected annual return: 176.2%\n",
      "Annual volatility: 93.9%\n",
      "Sharpe Ratio: 1.88\n",
      "(np.float64(1.7617202642776901), np.float64(0.9387615352459785), np.float64(1.876643000520975))\n"
     ]
    },
    {
     "data": {
      "image/png": "[encoded data removed]",
      "text/plain": [
       "<Figure size 640x480 with 1 Axes>"
      ]
     },
     "metadata": {},
     "output_type": "display_data"
    }
   ],
   "source": [
    "# Instantiate EF problem\n",
    "ef = EfficientFrontier(mu, S,\n",
    "    solver='SCS'\n",
    ")\n",
    "\n",
    "# Generate plot\n",
    "fig, ax = plt.subplots()\n",
    "ef_max_sharpe = ef.deepcopy()\n",
    "plotting.plot_efficient_frontier(ef, ax=ax, show_assets=True)\n",
    "\n",
    "# Find the tangency portfolio\n",
    "ef_max_sharpe.max_sharpe()\n",
    "ret_tangent, std_tangent, _ = ef_max_sharpe.portfolio_performance(risk_free_rate=0.0431)\n",
    "ax.scatter(std_tangent, ret_tangent, marker=\"*\", s=100, c=\"r\", label=\"Max Sharpe\")\n",
    "\n",
    "# Log performance\n",
    "print(ef.portfolio_performance(verbose=True))\n",
    "\n",
    "# Output\n",
    "ax.set_title(\"Efficient Frontier Mean Historical\")\n",
    "ax.legend()\n",
    "plt.tight_layout()\n",
    "plt.savefig(\"ef_scatter.png\", dpi=200)\n",
    "plt.show()"
   ]
  },
  {
   "cell_type": "markdown",
   "metadata": {},
   "source": [
    "## CAPM"
   ]
  },
  {
   "cell_type": "code",
   "execution_count": 374,
   "metadata": {},
   "outputs": [],
   "source": [
    "# Calculate expected returns and sample covariance\n",
    "mu = expected_returns.capm_return(data, risk_free_rate=0.0431)\n",
    "S = risk_models.CovarianceShrinkage(data).ledoit_wolf()"
   ]
  },
  {
   "cell_type": "code",
   "execution_count": 375,
   "metadata": {},
   "outputs": [
    {
     "name": "stdout",
     "output_type": "stream",
     "text": [
      "Expected annual return: 6.3%\n",
      "Annual volatility: 6.3%\n",
      "Sharpe Ratio: 1.01\n"
     ]
    },
    {
     "data": {
      "text/plain": [
       "(np.float64(0.0629539576302038),\n",
       " np.float64(0.0625085683922455),\n",
       " np.float64(1.0071252509762094))"
      ]
     },
     "execution_count": 375,
     "metadata": {},
     "output_type": "execute_result"
    }
   ],
   "source": [
    "# Optimize for maximal Sharpe ratio\n",
    "ef = EfficientFrontier(mu, S)\n",
    "weights = ef.max_sharpe()\n",
    "ef.portfolio_performance(verbose=True)"
   ]
  },
  {
   "cell_type": "code",
   "execution_count": 376,
   "metadata": {},
   "outputs": [
    {
     "data": {
      "text/plain": [
       "CBOE        0.031784\n",
       "K           0.036895\n",
       "CME         0.044500\n",
       "MRK         0.049354\n",
       "PG          0.050184\n",
       "              ...   \n",
       "ETH-USD     0.159742\n",
       "LTC-USD     0.160177\n",
       "SOL-USD     0.177334\n",
       "LINK-USD    0.189292\n",
       "AVAX-USD    0.201972\n",
       "Name: mkt, Length: 507, dtype: float64"
      ]
     },
     "execution_count": 376,
     "metadata": {},
     "output_type": "execute_result"
    }
   ],
   "source": [
    "mu\n",
    "mu.sort_values()"
   ]
  },
  {
   "cell_type": "code",
   "execution_count": 377,
   "metadata": {},
   "outputs": [
    {
     "name": "stderr",
     "output_type": "stream",
     "text": [
      "c:\\Users\\JW\\AppData\\Local\\pypoetry\\Cache\\virtualenvs\\cryptoto-IqJLIiLB-py3.12\\Lib\\site-packages\\pypfopt\\efficient_frontier\\efficient_frontier.py:441: UserWarning: The risk_free_rate provided to portfolio_performance is different to the one used by max_sharpe. Using the previous value.\n",
      "  warnings.warn(\n"
     ]
    },
    {
     "name": "stdout",
     "output_type": "stream",
     "text": [
      "Expected annual return: 20.2%\n",
      "Annual volatility: 90.9%\n",
      "Sharpe Ratio: 0.22\n",
      "(np.float64(0.20186720218559845), np.float64(0.9094739095888731), np.float64(0.22196041036169178))\n"
     ]
    },
    {
     "data": {
      "image/png": "[encoded data removed]",
      "text/plain": [
       "<Figure size 640x480 with 1 Axes>"
      ]
     },
     "metadata": {},
     "output_type": "display_data"
    }
   ],
   "source": [
    "# Instantiate EF problem\n",
    "ef = EfficientFrontier(mu, S,\n",
    "    solver='SCS'\n",
    ")\n",
    "\n",
    "# Generate plot\n",
    "fig, ax = plt.subplots()\n",
    "ef_max_sharpe = ef.deepcopy()\n",
    "plotting.plot_efficient_frontier(ef, ax=ax, show_assets=True)\n",
    "\n",
    "# Find the tangency portfolio\n",
    "ef_max_sharpe.max_sharpe()\n",
    "ret_tangent, std_tangent, _ = ef_max_sharpe.portfolio_performance(risk_free_rate=0.0431)\n",
    "ax.scatter(std_tangent, ret_tangent, marker=\"*\", s=100, c=\"r\", label=\"Max Sharpe\")\n",
    "\n",
    "# Log performance\n",
    "print(ef.portfolio_performance(verbose=True))\n",
    "\n",
    "# Output\n",
    "ax.set_title(\"Efficient Frontier CAPM\")\n",
    "ax.legend()\n",
    "plt.tight_layout()\n",
    "plt.savefig(\"ef_scatter.png\", dpi=200)\n",
    "plt.show()"
   ]
  },
  {
   "cell_type": "code",
   "execution_count": 378,
   "metadata": {},
   "outputs": [
    {
     "data": {
      "text/plain": [
       "{'JNPR': 0.0938,\n",
       " 'K': 0.06051,\n",
       " 'CBOE': 0.05031,\n",
       " 'CME': 0.04276,\n",
       " 'JNJ': 0.03634,\n",
       " 'MRK': 0.02972,\n",
       " 'CHD': 0.02399,\n",
       " 'COP': 0.02216,\n",
       " 'KDP': 0.02163,\n",
       " 'MO': 0.02096,\n",
       " 'EXPD': 0.02001,\n",
       " 'AAPL': 0.01971,\n",
       " 'BDX': 0.01849,\n",
       " 'GOOGL': 0.01831,\n",
       " 'BG': 0.01819,\n",
       " 'PM': 0.01721,\n",
       " 'MKTX': 0.01605,\n",
       " 'TTWO': 0.01604,\n",
       " 'COR': 0.01573,\n",
       " 'NVDA': 0.01566,\n",
       " 'AZO': 0.0155,\n",
       " 'KO': 0.01513,\n",
       " 'MCK': 0.01485,\n",
       " 'ACN': 0.01346,\n",
       " 'EA': 0.01299,\n",
       " 'GOOG': 0.01298,\n",
       " 'RTX': 0.01251,\n",
       " 'NTAP': 0.01212,\n",
       " 'HOLX': 0.01192,\n",
       " 'MSFT': 0.01134,\n",
       " 'EQT': 0.01119,\n",
       " 'RL': 0.01098,\n",
       " 'EW': 0.01085,\n",
       " 'HPE': 0.01061,\n",
       " 'AME': 0.01045,\n",
       " 'VZ': 0.0103,\n",
       " 'DIS': 0.01004,\n",
       " 'WMT': 0.00954,\n",
       " 'AON': 0.00923,\n",
       " 'VMC': 0.00917,\n",
       " 'ABNB': 0.00818,\n",
       " 'PG': 0.008,\n",
       " 'FANG': 0.00771,\n",
       " 'WTW': 0.0076,\n",
       " 'T': 0.00712,\n",
       " 'CI': 0.00658,\n",
       " 'EOG': 0.00654,\n",
       " 'TSN': 0.0064,\n",
       " 'CDNS': 0.00579,\n",
       " 'UBER': 0.0057,\n",
       " 'MNST': 0.00551,\n",
       " 'CEG': 0.00549,\n",
       " 'BSX': 0.00529,\n",
       " 'AXON': 0.00512,\n",
       " 'XOM': 0.00511,\n",
       " 'CE': 0.0051,\n",
       " 'CMS': 0.00477,\n",
       " 'AVGO': 0.00453,\n",
       " 'CAH': 0.00448,\n",
       " 'KR': 0.00441,\n",
       " 'STE': 0.00438,\n",
       " 'UNH': 0.00415,\n",
       " 'ETN': 0.00386,\n",
       " 'DUK': 0.00379,\n",
       " 'HPQ': 0.00343,\n",
       " 'NOC': 0.00337,\n",
       " 'NFLX': 0.0032,\n",
       " 'FDX': 0.00307,\n",
       " 'DXCM': 0.00284,\n",
       " 'CB': 0.00278,\n",
       " 'FFIV': 0.00278,\n",
       " 'WST': 0.00257,\n",
       " 'AJG': 0.00244,\n",
       " 'STLD': 0.00228,\n",
       " 'TMUS': 0.00224,\n",
       " 'META': 0.00211,\n",
       " 'FCX': 0.002,\n",
       " 'EXC': 0.00192,\n",
       " 'LUV': 0.0019,\n",
       " 'AEE': 0.00168,\n",
       " 'MLM': 0.00166,\n",
       " 'APD': 0.00155,\n",
       " 'SMCI': 0.00117,\n",
       " 'MSCI': 0.00105,\n",
       " 'DELL': 0.00097,\n",
       " 'JBL': 0.00087,\n",
       " 'GL': 0.00084,\n",
       " 'ELV': 0.00082,\n",
       " 'TGT': 0.0008,\n",
       " 'EVRG': 0.00065,\n",
       " 'UNI-USD': 0.00037,\n",
       " 'DLR': 0.00025}"
      ]
     },
     "execution_count": 378,
     "metadata": {},
     "output_type": "execute_result"
    }
   ],
   "source": [
    "weights = ef_max_sharpe.clean_weights()\n",
    "\n",
    "{e[0]: e[1] for e in sorted(list(weights.items()), key=lambda x: -x[1]) if e[1] > 0}"
   ]
  },
  {
   "cell_type": "code",
   "execution_count": 381,
   "metadata": {},
   "outputs": [
    {
     "name": "stdout",
     "output_type": "stream",
     "text": [
      "92\n"
     ]
    },
    {
     "data": {
      "text/plain": [
       "{'JNPR': 0.0938,\n",
       " 'K': 0.06051,\n",
       " 'CBOE': 0.05031,\n",
       " 'CME': 0.04276,\n",
       " 'JNJ': 0.03634,\n",
       " 'MRK': 0.02972,\n",
       " 'CHD': 0.02399,\n",
       " 'COP': 0.02216,\n",
       " 'KDP': 0.02163,\n",
       " 'MO': 0.02096,\n",
       " 'EXPD': 0.02001,\n",
       " 'AAPL': 0.01971,\n",
       " 'BDX': 0.01849,\n",
       " 'GOOGL': 0.01831,\n",
       " 'BG': 0.01819,\n",
       " 'PM': 0.01721,\n",
       " 'MKTX': 0.01605,\n",
       " 'TTWO': 0.01604,\n",
       " 'COR': 0.01573,\n",
       " 'NVDA': 0.01566,\n",
       " 'AZO': 0.0155,\n",
       " 'KO': 0.01513,\n",
       " 'MCK': 0.01485,\n",
       " 'ACN': 0.01346,\n",
       " 'EA': 0.01299,\n",
       " 'GOOG': 0.01298,\n",
       " 'RTX': 0.01251,\n",
       " 'NTAP': 0.01212,\n",
       " 'HOLX': 0.01192,\n",
       " 'MSFT': 0.01134}"
      ]
     },
     "execution_count": 381,
     "metadata": {},
     "output_type": "execute_result"
    }
   ],
   "source": [
    "temp = {e[0]: e[1] for e in sorted(list(weights.items()), key=lambda x: -x[1]) if e[1] > 0}\n",
    "\n",
    "print(len(temp))\n",
    "{key: temp[key] for key in list(temp.keys())[:30]}"
   ]
  }
 ],
 "metadata": {
  "kernelspec": {
   "display_name": "cryptoto-IqJLIiLB-py3.12",
   "language": "python",
   "name": "python3"
  },
  "language_info": {
   "codemirror_mode": {
    "name": "ipython",
    "version": 3
   },
   "file_extension": ".py",
   "mimetype": "text/x-python",
   "name": "python",
   "nbconvert_exporter": "python",
   "pygments_lexer": "ipython3",
   "version": "3.12.4"
  }
 },
 "nbformat": 4,
 "nbformat_minor": 2
}
