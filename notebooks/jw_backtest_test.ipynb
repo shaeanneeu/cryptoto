{
 "cells": [
  {
   "cell_type": "code",
   "execution_count": 2,
   "metadata": {},
   "outputs": [],
   "source": [
    "from backtesting import Backtest\n",
    "from backtesting.test import GOOG, BTCUSD\n",
    "\n",
    "import sys\n",
    "sys.path.append('../src')"
   ]
  },
  {
   "cell_type": "code",
   "execution_count": 3,
   "metadata": {},
   "outputs": [],
   "source": [
    "from strategies.larry_williams_price_action import LarryWilliamsPriceAction\n",
    "from strategies.macd_bollinger_bands_mean_reversion import MACDBollingerBandsMeanReversion\n",
    "from strategies.michael_harris_price_action import MichaelHarrisPriceAction\n",
    "from strategies.rsi_divergence import RSIDivergence\n",
    "from strategies.scalping import Scalping\n",
    "from strategies.volume_spike_reversal import VolumeSpikeReversal"
   ]
  },
  {
   "cell_type": "code",
   "execution_count": 17,
   "metadata": {},
   "outputs": [],
   "source": [
    "import pandas_ta as ta\n",
    "from backtesting import Strategy\n",
    "\n",
    "class Momentum(Strategy):\n",
    "    def init(self):\n",
    "        self.mom = self.I(ta.mom, self.data.Close.s, length=10)\n",
    "    \n",
    "    def next(self):\n",
    "        if self.mom[-1] > 0:\n",
    "            if not self.position:\n",
    "                self.buy()\n",
    "\n",
    "        elif self.mom[-1] < 0:\n",
    "            if self.position:\n",
    "                self.position.close()\n"
   ]
  },
  {
   "cell_type": "code",
   "execution_count": 18,
   "metadata": {},
   "outputs": [
    {
     "name": "stderr",
     "output_type": "stream",
     "text": [
      "                                                      \r"
     ]
    },
    {
     "ename": "ValueError",
     "evalue": "Indicators must return (optionally a tuple of) numpy.arrays of same length as `data` (data shape: (2,); indicator \"mom(C,10)\" shape: , returned value: None)",
     "output_type": "error",
     "traceback": [
      "\u001b[31m---------------------------------------------------------------------------\u001b[39m",
      "\u001b[31mValueError\u001b[39m                                Traceback (most recent call last)",
      "\u001b[36mCell\u001b[39m\u001b[36m \u001b[39m\u001b[32mIn[18]\u001b[39m\u001b[32m, line 5\u001b[39m\n\u001b[32m      1\u001b[39m bt = Backtest(GOOG, Momentum,\n\u001b[32m      2\u001b[39m               cash=\u001b[32m10000\u001b[39m, commission=\u001b[32m.002\u001b[39m,\n\u001b[32m      3\u001b[39m               exclusive_orders=\u001b[38;5;28;01mTrue\u001b[39;00m)\n\u001b[32m----> \u001b[39m\u001b[32m5\u001b[39m output = \u001b[43mbt\u001b[49m\u001b[43m.\u001b[49m\u001b[43mrun\u001b[49m\u001b[43m(\u001b[49m\u001b[43m)\u001b[49m\n\u001b[32m      6\u001b[39m bt.plot()\n",
      "\u001b[36mFile \u001b[39m\u001b[32mc:\\Users\\JW\\AppData\\Local\\pypoetry\\Cache\\virtualenvs\\cryptoto-IqJLIiLB-py3.12\\Lib\\site-packages\\backtesting\\backtesting.py:1326\u001b[39m, in \u001b[36mBacktest.run\u001b[39m\u001b[34m(self, **kwargs)\u001b[39m\n\u001b[32m   1323\u001b[39m         \u001b[38;5;28;01mbreak\u001b[39;00m\n\u001b[32m   1325\u001b[39m     \u001b[38;5;66;03m# Next tick, a moment before bar close\u001b[39;00m\n\u001b[32m-> \u001b[39m\u001b[32m1326\u001b[39m     \u001b[43mstrategy\u001b[49m\u001b[43m.\u001b[49m\u001b[43mnext\u001b[49m\u001b[43m(\u001b[49m\u001b[43m)\u001b[49m\n\u001b[32m   1327\u001b[39m \u001b[38;5;28;01melse\u001b[39;00m:\n\u001b[32m   1328\u001b[39m     \u001b[38;5;28;01mif\u001b[39;00m \u001b[38;5;28mself\u001b[39m._finalize_trades \u001b[38;5;129;01mis\u001b[39;00m \u001b[38;5;28;01mTrue\u001b[39;00m:\n\u001b[32m   1329\u001b[39m         \u001b[38;5;66;03m# Close any remaining open trades so they produce some stats\u001b[39;00m\n",
      "\u001b[36mCell\u001b[39m\u001b[36m \u001b[39m\u001b[32mIn[17]\u001b[39m\u001b[32m, line 9\u001b[39m, in \u001b[36mMomentum.next\u001b[39m\u001b[34m(self)\u001b[39m\n\u001b[32m      8\u001b[39m \u001b[38;5;28;01mdef\u001b[39;00m\u001b[38;5;250m \u001b[39m\u001b[34mnext\u001b[39m(\u001b[38;5;28mself\u001b[39m):\n\u001b[32m----> \u001b[39m\u001b[32m9\u001b[39m     \u001b[38;5;28mself\u001b[39m.mom = \u001b[38;5;28;43mself\u001b[39;49m\u001b[43m.\u001b[49m\u001b[43mI\u001b[49m\u001b[43m(\u001b[49m\u001b[43mta\u001b[49m\u001b[43m.\u001b[49m\u001b[43mmom\u001b[49m\u001b[43m,\u001b[49m\u001b[43m \u001b[49m\u001b[38;5;28;43mself\u001b[39;49m\u001b[43m.\u001b[49m\u001b[43mdata\u001b[49m\u001b[43m.\u001b[49m\u001b[43mClose\u001b[49m\u001b[43m.\u001b[49m\u001b[43ms\u001b[49m\u001b[43m,\u001b[49m\u001b[43m \u001b[49m\u001b[43mlength\u001b[49m\u001b[43m=\u001b[49m\u001b[32;43m10\u001b[39;49m\u001b[43m)\u001b[49m\n\u001b[32m     11\u001b[39m     \u001b[38;5;28;01mif\u001b[39;00m \u001b[38;5;28mself\u001b[39m.mom[-\u001b[32m1\u001b[39m] > \u001b[32m0\u001b[39m:\n\u001b[32m     12\u001b[39m         \u001b[38;5;28;01mif\u001b[39;00m \u001b[38;5;129;01mnot\u001b[39;00m \u001b[38;5;28mself\u001b[39m.position:\n",
      "\u001b[36mFile \u001b[39m\u001b[32mc:\\Users\\JW\\AppData\\Local\\pypoetry\\Cache\\virtualenvs\\cryptoto-IqJLIiLB-py3.12\\Lib\\site-packages\\backtesting\\backtesting.py:163\u001b[39m, in \u001b[36mStrategy.I\u001b[39m\u001b[34m(self, func, name, plot, overlay, color, scatter, *args, **kwargs)\u001b[39m\n\u001b[32m    158\u001b[39m     \u001b[38;5;28;01mraise\u001b[39;00m \u001b[38;5;167;01mValueError\u001b[39;00m(\n\u001b[32m    159\u001b[39m         \u001b[33mf\u001b[39m\u001b[33m'\u001b[39m\u001b[33mLength of `name=` (\u001b[39m\u001b[38;5;132;01m{\u001b[39;00m\u001b[38;5;28mlen\u001b[39m(name)\u001b[38;5;132;01m}\u001b[39;00m\u001b[33m) must agree with the number \u001b[39m\u001b[33m'\u001b[39m\n\u001b[32m    160\u001b[39m         \u001b[33mf\u001b[39m\u001b[33m'\u001b[39m\u001b[33mof arrays the indicator returns (\u001b[39m\u001b[38;5;132;01m{\u001b[39;00mvalue.shape[\u001b[32m0\u001b[39m]\u001b[38;5;132;01m}\u001b[39;00m\u001b[33m).\u001b[39m\u001b[33m'\u001b[39m)\n\u001b[32m    162\u001b[39m \u001b[38;5;28;01mif\u001b[39;00m \u001b[38;5;129;01mnot\u001b[39;00m is_arraylike \u001b[38;5;129;01mor\u001b[39;00m \u001b[38;5;129;01mnot\u001b[39;00m \u001b[32m1\u001b[39m <= value.ndim <= \u001b[32m2\u001b[39m \u001b[38;5;129;01mor\u001b[39;00m value.shape[-\u001b[32m1\u001b[39m] != \u001b[38;5;28mlen\u001b[39m(\u001b[38;5;28mself\u001b[39m._data.Close):\n\u001b[32m--> \u001b[39m\u001b[32m163\u001b[39m     \u001b[38;5;28;01mraise\u001b[39;00m \u001b[38;5;167;01mValueError\u001b[39;00m(\n\u001b[32m    164\u001b[39m         \u001b[33m'\u001b[39m\u001b[33mIndicators must return (optionally a tuple of) numpy.arrays of same \u001b[39m\u001b[33m'\u001b[39m\n\u001b[32m    165\u001b[39m         \u001b[33mf\u001b[39m\u001b[33m'\u001b[39m\u001b[33mlength as `data` (data shape: \u001b[39m\u001b[38;5;132;01m{\u001b[39;00m\u001b[38;5;28mself\u001b[39m._data.Close.shape\u001b[38;5;132;01m}\u001b[39;00m\u001b[33m; indicator \u001b[39m\u001b[33m\"\u001b[39m\u001b[38;5;132;01m{\u001b[39;00mname\u001b[38;5;132;01m}\u001b[39;00m\u001b[33m\"\u001b[39m\u001b[33m \u001b[39m\u001b[33m'\u001b[39m\n\u001b[32m    166\u001b[39m         \u001b[33mf\u001b[39m\u001b[33m'\u001b[39m\u001b[33mshape: \u001b[39m\u001b[38;5;132;01m{\u001b[39;00m\u001b[38;5;28mgetattr\u001b[39m(value,\u001b[38;5;250m \u001b[39m\u001b[33m\"\u001b[39m\u001b[33mshape\u001b[39m\u001b[33m\"\u001b[39m,\u001b[38;5;250m \u001b[39m\u001b[33m\"\u001b[39m\u001b[33m\"\u001b[39m)\u001b[38;5;132;01m}\u001b[39;00m\u001b[33m, returned value: \u001b[39m\u001b[38;5;132;01m{\u001b[39;00mvalue\u001b[38;5;132;01m}\u001b[39;00m\u001b[33m)\u001b[39m\u001b[33m'\u001b[39m)\n\u001b[32m    168\u001b[39m \u001b[38;5;28;01mif\u001b[39;00m plot \u001b[38;5;129;01mand\u001b[39;00m overlay \u001b[38;5;129;01mis\u001b[39;00m \u001b[38;5;28;01mNone\u001b[39;00m \u001b[38;5;129;01mand\u001b[39;00m np.issubdtype(value.dtype, np.number):\n\u001b[32m    169\u001b[39m     x = value / \u001b[38;5;28mself\u001b[39m._data.Close\n",
      "\u001b[31mValueError\u001b[39m: Indicators must return (optionally a tuple of) numpy.arrays of same length as `data` (data shape: (2,); indicator \"mom(C,10)\" shape: , returned value: None)"
     ]
    }
   ],
   "source": [
    "bt = Backtest(GOOG, Momentum,\n",
    "              cash=10000, commission=.002,\n",
    "              exclusive_orders=True)\n",
    "\n",
    "output = bt.run()\n",
    "bt.plot()"
   ]
  }
 ],
 "metadata": {
  "kernelspec": {
   "display_name": "cryptoto-IqJLIiLB-py3.12",
   "language": "python",
   "name": "python3"
  },
  "language_info": {
   "codemirror_mode": {
    "name": "ipython",
    "version": 3
   },
   "file_extension": ".py",
   "mimetype": "text/x-python",
   "name": "python",
   "nbconvert_exporter": "python",
   "pygments_lexer": "ipython3",
   "version": "3.12.4"
  }
 },
 "nbformat": 4,
 "nbformat_minor": 2
}
